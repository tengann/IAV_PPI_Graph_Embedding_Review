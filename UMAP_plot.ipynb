{
 "cells": [
  {
   "cell_type": "markdown",
   "id": "4011b41c",
   "metadata": {},
   "source": [
    "# Uniform Manifold Approximation and Projection (UMAP)"
   ]
  },
  {
   "cell_type": "code",
   "execution_count": null,
   "id": "2540ad80",
   "metadata": {},
   "outputs": [],
   "source": [
    "# ! pip install umap-learn"
   ]
  },
  {
   "cell_type": "code",
   "execution_count": null,
   "id": "46383a0d",
   "metadata": {},
   "outputs": [],
   "source": [
    "# ## plotting functionality\n",
    "# ! pip install umap-learn[plot] "
   ]
  },
  {
   "cell_type": "code",
   "execution_count": null,
   "id": "88480021",
   "metadata": {},
   "outputs": [],
   "source": [
    "# import sklearn.datasets\n",
    "import pandas as pd\n",
    "import numpy as np\n",
    "\n",
    "# import scipy.sparse as sp\n",
    "from scipy import sparse\n",
    "\n",
    "import umap\n",
    "import umap.plot\n",
    "\n",
    "# from matplotlib import pyplot as plt\n",
    "import matplotlib.pyplot as plt\n",
    "# from pathlib import Path\n",
    "\n",
    "import glob"
   ]
  },
  {
   "cell_type": "code",
   "execution_count": null,
   "id": "d3ccb095",
   "metadata": {},
   "outputs": [],
   "source": [
    "# hvppi_preds = pd.read_csv('cleaned_edgelist.csv').drop(columns=['Interaction'])\n",
    "# hvppi_preds['Segment'] = hvppi_preds['Segment'].fillna('NA')\n",
    "# hvppi_preds"
   ]
  },
  {
   "cell_type": "code",
   "execution_count": null,
   "id": "7218b798",
   "metadata": {},
   "outputs": [],
   "source": [
    "# ## Filter Scores\n",
    "# pos_df = hvppi_preds[hvppi_preds['Score'] >= 0.143]\n",
    "# pos_df = pos_df.sort_values(by=['Score'], ascending=False).reset_index(drop=True)\n",
    "# # pos_df\n",
    "\n",
    "# # pos_deg_counts = pos_df['Pro1ID'].value_counts().rename_axis('Pro1ID').reset_index(name='value_counts')\n",
    "# # pos_deg_counts\n",
    "\n",
    "# neg_df = hvppi_preds[hvppi_preds['Score'] < 0.143].reset_index(drop=True)\n",
    "# neg_df['Pro1ID'].value_counts()\n",
    "# # neg_df"
   ]
  },
  {
   "cell_type": "code",
   "execution_count": null,
   "id": "819aed5c",
   "metadata": {},
   "outputs": [],
   "source": [
    "# hadamard_edges = hvppi_preds[['Pro1ID', 'Pro2ID', 'Score']].sort_values(by=['Score'], ascending=False).reset_index(drop=True)\n",
    "# hadamard_edges.columns = ['Protein1_ID', 'Protein2_ID', 'Score']\n",
    "# hadamard_edges = hadamard_edges[hadamard_edges['Score']!=0.000]\n",
    "# # hadamard_edges\n",
    "\n",
    "# ## Map to index\n",
    "# h_edges_idx = pd.merge(hadamard_edges, protein_list, on=['Protein1_ID'])\n",
    "# h_edges_idx = pd.merge(h_edges_idx, protein_list, left_on=['Protein2_ID'], right_on=['Protein1_ID'])\n",
    "# h_edges_idx = h_edges_idx[['Unnamed: 0_x', 'Unnamed: 0_y', 'Score']]\n",
    "# h_edges_idx.columns = ['Protein1_ID', 'Protein2_ID', 'Score']\n",
    "# h_edges_idx"
   ]
  },
  {
   "cell_type": "markdown",
   "id": "aaaeb44e",
   "metadata": {},
   "source": [
    "### 2 classes: IAV (Index 0 to 40) & Human (Index 41 to 15684)"
   ]
  },
  {
   "cell_type": "code",
   "execution_count": null,
   "id": "d0be08cc",
   "metadata": {},
   "outputs": [],
   "source": [
    "protein_list = pd.read_csv('protein_class.csv') \n",
    "protein_list"
   ]
  },
  {
   "cell_type": "code",
   "execution_count": null,
   "id": "33a62276",
   "metadata": {},
   "outputs": [],
   "source": [
    "# target = protein_list['class'].values\n",
    "# target"
   ]
  },
  {
   "cell_type": "markdown",
   "id": "dd5caf39",
   "metadata": {},
   "source": [
    "## Graph Embeddings"
   ]
  },
  {
   "cell_type": "markdown",
   "id": "ea29c74b",
   "metadata": {},
   "source": [
    "### Node Embeddings"
   ]
  },
  {
   "cell_type": "code",
   "execution_count": null,
   "id": "6849d7cf",
   "metadata": {},
   "outputs": [],
   "source": [
    "emb_name = 'node2vec_plus/SparseOTF'"
   ]
  },
  {
   "cell_type": "code",
   "execution_count": null,
   "id": "71a50ee6",
   "metadata": {},
   "outputs": [],
   "source": [
    "edit_data_path = 'Embeddings/Graph/' + emb_name + '/' "
   ]
  },
  {
   "cell_type": "code",
   "execution_count": null,
   "id": "399cd265",
   "metadata": {},
   "outputs": [],
   "source": [
    "hyper_param = 'p2_q2'"
   ]
  },
  {
   "cell_type": "code",
   "execution_count": null,
   "id": "6afdeb06",
   "metadata": {},
   "outputs": [],
   "source": [
    "# emb = pd.read_csv(edit_data_path + hyper_param + '.txt', sep=' ', skiprows=1, header = None)\n",
    "# emb = pd.read_csv(edit_data_path + hyper_param + '.csv', skiprows=1, header = None)\n",
    "\n",
    "## node2vec+\n",
    "emb = pd.read_csv(edit_data_path + hyper_param + '.emb', sep=' ', skiprows=1, header = None)\n",
    " \n",
    "emb_f = emb.sort_values(by=[0]).set_index([0])\n",
    "emb_f"
   ]
  },
  {
   "cell_type": "code",
   "execution_count": null,
   "id": "09f446cb",
   "metadata": {},
   "outputs": [],
   "source": [
    "g_features = emb_f.sort_index().values\n",
    "print(g_features.shape)"
   ]
  },
  {
   "cell_type": "code",
   "execution_count": null,
   "id": "a0124b5b",
   "metadata": {},
   "outputs": [],
   "source": [
    "g_features"
   ]
  },
  {
   "cell_type": "markdown",
   "id": "91107250",
   "metadata": {},
   "source": [
    "### Edge Embeddings"
   ]
  },
  {
   "cell_type": "code",
   "execution_count": null,
   "id": "27ca76f3",
   "metadata": {},
   "outputs": [],
   "source": [
    "'''\n",
    "    Group human proteins into classes - according to HVPPI interaction potential thresholds\n",
    "    \n",
    "    (A) Score < 0.143\n",
    "    (B) 0.143 <= Score < 0.212 (0.90)\n",
    "    (C) 0.212 <= Score < 0.375 (0.95)\n",
    "    (D) Score >= 0.375 (0.99)\n",
    "    \n",
    "    Pro1ID --- Human\n",
    "    Pro2ID --- IAV\n",
    "'''"
   ]
  },
  {
   "cell_type": "code",
   "execution_count": null,
   "id": "e2304081",
   "metadata": {},
   "outputs": [],
   "source": [
    "## Add class label\n",
    "# edge_emb['Class'] = ''\n",
    "\n",
    "# edge_emb.loc[edge_emb['Score'] < 0.143, 'Class'] = 'A'\n",
    "# edge_emb.loc[(edge_emb['Score'] >=0.143) & (edge_emb['Score'] < 0.212), 'Class'] = 'B'\n",
    "# edge_emb.loc[(edge_emb['Score'] >=0.212) & (edge_emb['Score'] < 0.375), 'Class'] = 'C'\n",
    "# edge_emb.loc[edge_emb['Score'] >= 0.375, 'Class'] = 'D'\n",
    "# edge_emb"
   ]
  },
  {
   "cell_type": "code",
   "execution_count": null,
   "id": "35197737",
   "metadata": {},
   "outputs": [],
   "source": [
    "edge_emb = pd.read_csv('./hvppi_edgelist_idx.csv')\n",
    "edge_emb"
   ]
  },
  {
   "cell_type": "code",
   "execution_count": null,
   "id": "ee8d75cc",
   "metadata": {},
   "outputs": [],
   "source": [
    "## Get edge embeddings from node embeddings\n",
    "\n",
    "edges_count = edge_emb.shape[0]\n",
    "\n",
    "X = np.empty((edges_count, g_features.shape[1])) ## All embeddings\n",
    "k = 0\n",
    "\n",
    "for i in range(len(edge_emb)):\n",
    "    \n",
    "#     print(edge_emb['Protein1_ID'][i], edge_emb['Protein2_ID'][i])\n",
    "\n",
    "    u = g_features[edge_emb['Protein1_ID'][i]]\n",
    "    v = g_features[edge_emb['Protein2_ID'][i]]\n",
    "\n",
    "    hadamard = np.multiply(u, v)\n",
    "    \n",
    "    X[k] = hadamard\n",
    "    k = k + 1\n",
    "    \n",
    "print(X)\n",
    "print(X.shape)"
   ]
  },
  {
   "cell_type": "code",
   "execution_count": null,
   "id": "0a07e749",
   "metadata": {},
   "outputs": [],
   "source": [
    "## Target\n",
    "target = edge_emb['Class'].values\n",
    "target"
   ]
  },
  {
   "cell_type": "code",
   "execution_count": null,
   "id": "9238bf54",
   "metadata": {},
   "outputs": [],
   "source": [
    "## Plot\n",
    "mapper = umap.UMAP().fit(X)"
   ]
  },
  {
   "cell_type": "code",
   "execution_count": null,
   "id": "1c211b78",
   "metadata": {},
   "outputs": [],
   "source": [
    "umap.plot.points(mapper, labels=target)"
   ]
  },
  {
   "cell_type": "markdown",
   "id": "a9c1c3c1",
   "metadata": {},
   "source": [
    "## Protein Embeddings "
   ]
  },
  {
   "cell_type": "code",
   "execution_count": null,
   "id": "9bac7a0a",
   "metadata": {},
   "outputs": [],
   "source": [
    "emb_name = 'DPC'"
   ]
  },
  {
   "cell_type": "code",
   "execution_count": null,
   "id": "e8a112f1",
   "metadata": {},
   "outputs": [],
   "source": [
    "edit_data_path = 'Embeddings/Protein/' + emb_name "
   ]
  },
  {
   "cell_type": "code",
   "execution_count": null,
   "id": "e73a4e38",
   "metadata": {},
   "outputs": [],
   "source": [
    "## Load npz\n",
    "read_emb = sparse.load_npz(edit_data_path + '.npz')\n",
    "p_features = read_emb.toarray()\n",
    "p_features"
   ]
  },
  {
   "cell_type": "code",
   "execution_count": null,
   "id": "b8384bb4",
   "metadata": {},
   "outputs": [],
   "source": [
    "print(p_features.shape)"
   ]
  },
  {
   "cell_type": "code",
   "execution_count": null,
   "id": "d80a0177",
   "metadata": {},
   "outputs": [],
   "source": [
    "mapper = umap.UMAP().fit(p_features)\n",
    "umap.plot.points(mapper, labels=target)"
   ]
  },
  {
   "cell_type": "markdown",
   "id": "e19f0481",
   "metadata": {},
   "source": [
    "## Subplot"
   ]
  },
  {
   "cell_type": "code",
   "execution_count": null,
   "id": "b489ffa9",
   "metadata": {},
   "outputs": [],
   "source": [
    "### Create a list of directories\n",
    "# img_dir = './umap_plots/Graph/'\n",
    "img_dir = './umap_plots/Protein/'\n",
    "\n",
    "### Extract the image paths into a list\n",
    "# All files and directories ending with .png and that don't begin with a dot:\n",
    "files = glob.glob(img_dir + \"*.png\")\n",
    "files\n",
    "# print(glob.glob(img_dir + \"*.png\")) "
   ]
  },
  {
   "cell_type": "code",
   "execution_count": null,
   "id": "ba191375",
   "metadata": {},
   "outputs": [],
   "source": [
    "## Graph Embedding\n",
    "# plt_titles = ['deepwalk', 'node2vec', 'node2vec+', 'struc2vec', 'ripple2vec',\n",
    "#              'LINE', 'SDNE', 'VAE', 'GraRep']\n",
    "\n",
    "## Protein Embedding\n",
    "plt_titles = ['AAC', 'DPC', 'C/T/D', 'QSOrder', 'APAAC', 'CT', 'NMBroto']"
   ]
  },
  {
   "cell_type": "code",
   "execution_count": null,
   "id": "57b9377a",
   "metadata": {},
   "outputs": [],
   "source": [
    "# create the figure\n",
    "fig, axs = plt.subplots(nrows=3, ncols=3, figsize=(15, 15))\n",
    "\n",
    "# flatten the axis into a 1-d array to make it easier to access each axes\n",
    "axs = axs.flatten()\n",
    "\n",
    "# iterate through and enumerate the files, use i to index the axes\n",
    "for i, file in enumerate(files):\n",
    "    \n",
    "    # read the image in\n",
    "    pic = plt.imread(file)\n",
    "\n",
    "    # add the image to the axes\n",
    "    axs[i].imshow(pic)\n",
    "\n",
    "    # add an axes title; .stem is a pathlib method to get the filename\n",
    "    axs[i].set(title=plt_titles[i])\n",
    "\n",
    "# remove the x and y ticks\n",
    "for ax in axs:\n",
    "    ax.set_xticks([])\n",
    "    ax.set_yticks([])\n",
    "    \n",
    "## To-do: axs[1,3] how to hide??\n",
    "fig.delaxes(axs[7])\n",
    "fig.delaxes(axs[8])\n",
    "    \n",
    "# # add a figure title\n",
    "# fig.suptitle('Images from https://www.heroforge.com/', fontsize=18)"
   ]
  },
  {
   "cell_type": "code",
   "execution_count": null,
   "id": "5dc4c5aa",
   "metadata": {},
   "outputs": [],
   "source": [
    "# # create a list of directories\n",
    "# dirs = ['../Pictures/dataset1', '../Pictures/dataset2', '../Pictures/dataset3']\n",
    "\n",
    "# # extract the image paths into a list\n",
    "# files = [f for dir_ in dirs for f in list(Path(dir_).glob('*.jpg'))]\n",
    "\n",
    "# # create the figure\n",
    "# fig, axs = plt.subplots(nrows=5, ncols=3, figsize=(10, 10))\n",
    "\n",
    "# # flatten the axis into a 1-d array to make it easier to access each axes\n",
    "# axs = axs.flatten()\n",
    "\n",
    "# # iterate through and enumerate the files, use i to index the axes\n",
    "# for i, file in enumerate(files):\n",
    "    \n",
    "#     # read the image in\n",
    "#     pic = plt.imread(file)\n",
    "\n",
    "#     # add the image to the axes\n",
    "#     axs[i].imshow(pic)\n",
    "\n",
    "#     # add an axes title; .stem is a pathlib method to get the filename\n",
    "#     axs[i].set(title=file.stem)\n",
    "\n",
    "# # # add a figure title\n",
    "# # fig.suptitle('Images from https://www.heroforge.com/', fontsize=18)"
   ]
  },
  {
   "cell_type": "markdown",
   "id": "34640880",
   "metadata": {},
   "source": [
    "# Reference codes"
   ]
  },
  {
   "cell_type": "code",
   "execution_count": null,
   "id": "f6a474a6",
   "metadata": {},
   "outputs": [],
   "source": [
    "# ## Plot\n",
    "# plt.rcParams[\"figure.figsize\"] = (12, 8)\n",
    "\n",
    "# fig, axs = plt.subplots(2, 4)\n",
    "# plt.setp(axs, xticks=[1, 3, 5, 7, 9], xticklabels=['2', '4', '6', '8', '10']) ## xticks starts from 0 (i.e. xticklabels 1)\n",
    "\n",
    "# locs, labels = plt.xticks()  # Get the current locations and labels.\n",
    "# print(locs, labels)\n",
    "\n",
    "# axs[0, 0].plot(acc)\n",
    "# axs[0, 0].set(ylabel='accuracy')\n",
    "\n",
    "# axs[0, 1].plot(sen, 'tab:orange')\n",
    "# axs[0, 1].set(ylabel='sensitivity(recall)')\n",
    "\n",
    "# axs[0, 2].plot(spec, 'tab:green')\n",
    "# axs[0, 2].set(ylabel='specificity')\n",
    "\n",
    "# axs[0, 3].plot(pre, 'tab:red')\n",
    "# axs[0, 3].set(ylabel='precision')\n",
    "\n",
    "# axs[1, 0].plot(f1, 'tab:purple')\n",
    "# axs[1, 0].set(ylabel='F1-Score')\n",
    "\n",
    "# axs[1, 1].plot(roc, 'tab:brown')\n",
    "# axs[1, 1].set(ylabel='ROC-AUC')\n",
    "\n",
    "# axs[1, 2].plot(pr, 'tab:pink')\n",
    "# axs[1, 2].set(ylabel='PR-AUC')\n",
    "\n",
    "# ## To-do: axs[1,3] how to hide??\n",
    "# fig.delaxes(axs[1,3])\n",
    "\n",
    "# fig.tight_layout()\n",
    "\n",
    "# plt.savefig('./eval_metrics_plts/' + mtd + '.png')\n",
    "# print('---Plot Saved---')"
   ]
  },
  {
   "cell_type": "code",
   "execution_count": null,
   "id": "42d3b94c",
   "metadata": {},
   "outputs": [],
   "source": [
    "# len(pendigits.feature_names) ## dimensions"
   ]
  },
  {
   "cell_type": "code",
   "execution_count": null,
   "id": "4d8188ba",
   "metadata": {},
   "outputs": [],
   "source": [
    "# pendigits.data.shape"
   ]
  },
  {
   "cell_type": "code",
   "execution_count": null,
   "id": "767a5dde",
   "metadata": {},
   "outputs": [],
   "source": [
    "# len(pendigits.target)"
   ]
  },
  {
   "cell_type": "code",
   "execution_count": null,
   "id": "68a9eaee",
   "metadata": {},
   "outputs": [],
   "source": [
    "# pendigits = sklearn.datasets.load_digits()\n",
    "# pendigits"
   ]
  },
  {
   "cell_type": "code",
   "execution_count": null,
   "id": "cc18f7fc",
   "metadata": {},
   "outputs": [],
   "source": [
    "# mapper = umap.UMAP().fit(pendigits.data)"
   ]
  },
  {
   "cell_type": "code",
   "execution_count": null,
   "id": "0eaae59e",
   "metadata": {},
   "outputs": [],
   "source": [
    "# umap.plot.points(mapper)"
   ]
  },
  {
   "cell_type": "code",
   "execution_count": null,
   "id": "ea3106e4",
   "metadata": {},
   "outputs": [],
   "source": [
    "# umap.plot.points(mapper, labels=pendigits.target)"
   ]
  },
  {
   "cell_type": "code",
   "execution_count": null,
   "id": "55937d88",
   "metadata": {},
   "outputs": [],
   "source": []
  }
 ],
 "metadata": {
  "kernelspec": {
   "display_name": "Python 3 (ipykernel)",
   "language": "python",
   "name": "python3"
  },
  "language_info": {
   "codemirror_mode": {
    "name": "ipython",
    "version": 3
   },
   "file_extension": ".py",
   "mimetype": "text/x-python",
   "name": "python",
   "nbconvert_exporter": "python",
   "pygments_lexer": "ipython3",
   "version": "3.9.12"
  }
 },
 "nbformat": 4,
 "nbformat_minor": 5
}
