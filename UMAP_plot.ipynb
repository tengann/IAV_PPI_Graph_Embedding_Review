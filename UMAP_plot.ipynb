{
 "cells": [
  {
   "cell_type": "markdown",
   "id": "4011b41c",
   "metadata": {},
   "source": [
    "# Uniform Manifold Approximation and Projection (UMAP)"
   ]
  },
  {
   "cell_type": "code",
   "execution_count": 1,
   "id": "2540ad80",
   "metadata": {},
   "outputs": [],
   "source": [
    "# ! pip install umap-learn"
   ]
  },
  {
   "cell_type": "code",
   "execution_count": 2,
   "id": "46383a0d",
   "metadata": {},
   "outputs": [],
   "source": [
    "# ## plotting functionality\n",
    "# ! pip install umap-learn[plot] "
   ]
  },
  {
   "cell_type": "code",
   "execution_count": 3,
   "id": "8f283150",
   "metadata": {},
   "outputs": [],
   "source": [
    "# hvppi_preds = pd.read_csv('cleaned_edgelist.csv').drop(columns=['Interaction'])\n",
    "# hvppi_preds['Segment'] = hvppi_preds['Segment'].fillna('NA')\n",
    "# hvppi_preds"
   ]
  },
  {
   "cell_type": "code",
   "execution_count": 4,
   "id": "288f2769",
   "metadata": {},
   "outputs": [],
   "source": [
    "# ## Filter Scores\n",
    "# pos_df = hvppi_preds[hvppi_preds['Score'] >= 0.143]\n",
    "# pos_df = pos_df.sort_values(by=['Score'], ascending=False).reset_index(drop=True)\n",
    "# # pos_df\n",
    "\n",
    "# # pos_deg_counts = pos_df['Pro1ID'].value_counts().rename_axis('Pro1ID').reset_index(name='value_counts')\n",
    "# # pos_deg_counts\n",
    "\n",
    "# neg_df = hvppi_preds[hvppi_preds['Score'] < 0.143].reset_index(drop=True)\n",
    "# neg_df['Pro1ID'].value_counts()\n",
    "# # neg_df"
   ]
  },
  {
   "cell_type": "code",
   "execution_count": 5,
   "id": "f15f02b8",
   "metadata": {},
   "outputs": [],
   "source": [
    "# hadamard_edges = hvppi_preds[['Pro1ID', 'Pro2ID', 'Score']].sort_values(by=['Score'], ascending=False).reset_index(drop=True)\n",
    "# hadamard_edges.columns = ['Protein1_ID', 'Protein2_ID', 'Score']\n",
    "# hadamard_edges = hadamard_edges[hadamard_edges['Score']!=0.000]\n",
    "# # hadamard_edges\n",
    "\n",
    "# ## Map to index\n",
    "# h_edges_idx = pd.merge(hadamard_edges, protein_list, on=['Protein1_ID'])\n",
    "# h_edges_idx = pd.merge(h_edges_idx, protein_list, left_on=['Protein2_ID'], right_on=['Protein1_ID'])\n",
    "# h_edges_idx = h_edges_idx[['Unnamed: 0_x', 'Unnamed: 0_y', 'Score']]\n",
    "# h_edges_idx.columns = ['Protein1_ID', 'Protein2_ID', 'Score']\n",
    "# h_edges_idx"
   ]
  },
  {
   "cell_type": "code",
   "execution_count": 6,
   "id": "88480021",
   "metadata": {},
   "outputs": [],
   "source": [
    "# import sklearn.datasets\n",
    "import pandas as pd\n",
    "import numpy as np\n",
    "\n",
    "# import scipy.sparse as sp\n",
    "from scipy import sparse\n",
    "\n",
    "import umap\n",
    "import umap.plot"
   ]
  },
  {
   "cell_type": "markdown",
   "id": "31a0c5b4",
   "metadata": {},
   "source": [
    "### 2 classes: IAV (Index 0 to 40) & Human (Index 41 to 15684)"
   ]
  },
  {
   "cell_type": "code",
   "execution_count": 7,
   "id": "d0be08cc",
   "metadata": {},
   "outputs": [
    {
     "data": {
      "text/html": [
       "<div>\n",
       "<style scoped>\n",
       "    .dataframe tbody tr th:only-of-type {\n",
       "        vertical-align: middle;\n",
       "    }\n",
       "\n",
       "    .dataframe tbody tr th {\n",
       "        vertical-align: top;\n",
       "    }\n",
       "\n",
       "    .dataframe thead th {\n",
       "        text-align: right;\n",
       "    }\n",
       "</style>\n",
       "<table border=\"1\" class=\"dataframe\">\n",
       "  <thead>\n",
       "    <tr style=\"text-align: right;\">\n",
       "      <th></th>\n",
       "      <th>Unnamed: 0</th>\n",
       "      <th>Protein1_ID</th>\n",
       "      <th>class</th>\n",
       "    </tr>\n",
       "  </thead>\n",
       "  <tbody>\n",
       "    <tr>\n",
       "      <th>0</th>\n",
       "      <td>0</td>\n",
       "      <td>P03428</td>\n",
       "      <td>IAV</td>\n",
       "    </tr>\n",
       "    <tr>\n",
       "      <th>1</th>\n",
       "      <td>1</td>\n",
       "      <td>P03431</td>\n",
       "      <td>IAV</td>\n",
       "    </tr>\n",
       "    <tr>\n",
       "      <th>2</th>\n",
       "      <td>2</td>\n",
       "      <td>P03433</td>\n",
       "      <td>IAV</td>\n",
       "    </tr>\n",
       "    <tr>\n",
       "      <th>3</th>\n",
       "      <td>3</td>\n",
       "      <td>P03452</td>\n",
       "      <td>IAV</td>\n",
       "    </tr>\n",
       "    <tr>\n",
       "      <th>4</th>\n",
       "      <td>4</td>\n",
       "      <td>P03466</td>\n",
       "      <td>IAV</td>\n",
       "    </tr>\n",
       "    <tr>\n",
       "      <th>...</th>\n",
       "      <td>...</td>\n",
       "      <td>...</td>\n",
       "      <td>...</td>\n",
       "    </tr>\n",
       "    <tr>\n",
       "      <th>15680</th>\n",
       "      <td>15680</td>\n",
       "      <td>Q6NUS8</td>\n",
       "      <td>Human</td>\n",
       "    </tr>\n",
       "    <tr>\n",
       "      <th>15681</th>\n",
       "      <td>15681</td>\n",
       "      <td>P12018</td>\n",
       "      <td>Human</td>\n",
       "    </tr>\n",
       "    <tr>\n",
       "      <th>15682</th>\n",
       "      <td>15682</td>\n",
       "      <td>Q96IU2</td>\n",
       "      <td>Human</td>\n",
       "    </tr>\n",
       "    <tr>\n",
       "      <th>15683</th>\n",
       "      <td>15683</td>\n",
       "      <td>Q6PEW1</td>\n",
       "      <td>Human</td>\n",
       "    </tr>\n",
       "    <tr>\n",
       "      <th>15684</th>\n",
       "      <td>15684</td>\n",
       "      <td>P0CG32</td>\n",
       "      <td>Human</td>\n",
       "    </tr>\n",
       "  </tbody>\n",
       "</table>\n",
       "<p>15685 rows × 3 columns</p>\n",
       "</div>"
      ],
      "text/plain": [
       "       Unnamed: 0 Protein1_ID  class\n",
       "0               0      P03428    IAV\n",
       "1               1      P03431    IAV\n",
       "2               2      P03433    IAV\n",
       "3               3      P03452    IAV\n",
       "4               4      P03466    IAV\n",
       "...           ...         ...    ...\n",
       "15680       15680      Q6NUS8  Human\n",
       "15681       15681      P12018  Human\n",
       "15682       15682      Q96IU2  Human\n",
       "15683       15683      Q6PEW1  Human\n",
       "15684       15684      P0CG32  Human\n",
       "\n",
       "[15685 rows x 3 columns]"
      ]
     },
     "execution_count": 7,
     "metadata": {},
     "output_type": "execute_result"
    }
   ],
   "source": [
    "protein_list = pd.read_csv('protein_class.csv') \n",
    "protein_list"
   ]
  },
  {
   "cell_type": "code",
   "execution_count": 8,
   "id": "33a62276",
   "metadata": {},
   "outputs": [],
   "source": [
    "# target = protein_list['class'].values\n",
    "# target"
   ]
  },
  {
   "cell_type": "markdown",
   "id": "79b40259",
   "metadata": {},
   "source": [
    "# Node Embeddings"
   ]
  },
  {
   "cell_type": "markdown",
   "id": "dd5caf39",
   "metadata": {},
   "source": [
    "## Graph Embeddings"
   ]
  },
  {
   "cell_type": "code",
   "execution_count": 9,
   "id": "8ee071ab",
   "metadata": {},
   "outputs": [],
   "source": [
    "# emb_name = 'node2vec_plus/SparseOTF'\n",
    "# edit_data_path = 'Embeddings/Graph/' + emb_name + '/' "
   ]
  },
  {
   "cell_type": "code",
   "execution_count": 10,
   "id": "6849d7cf",
   "metadata": {},
   "outputs": [
    {
     "data": {
      "text/plain": [
       "'\\n    Methods list:\\n    \\n    deepwalk_nw16_wl32\\n    node2vec_nw8_wl32_p0.25_q0.5\\n    struc2vec_nw128_wl16\\n    \\n    LINE_epochs35\\n    LINE_order1_epochs10, LINE_order2_epochs20\\n    \\n    sdne_a0_b10\\n    grarep_k2\\n    vae_h256_128\\n    ripple2vec_nw8_wl8\\n    \\n    n2vplus_nw8_wl32_p0.25_q0.5 .emb ## For comparison with node2vec\\n    n2v_plus_p4_q0.5 .txt  ## Best hyper-param\\n'"
      ]
     },
     "execution_count": 10,
     "metadata": {},
     "output_type": "execute_result"
    }
   ],
   "source": [
    "'''\n",
    "    Methods list:\n",
    "    \n",
    "    deepwalk_nw16_wl32\n",
    "    node2vec_nw8_wl32_p0.25_q0.5\n",
    "    struc2vec_nw128_wl16\n",
    "    \n",
    "    LINE_epochs35\n",
    "    LINE_order1_epochs10, LINE_order2_epochs20\n",
    "    \n",
    "    sdne_a0_b10\n",
    "    grarep_k2\n",
    "    vae_h256_128\n",
    "    ripple2vec_nw8_wl8\n",
    "    \n",
    "    n2vplus_nw8_wl32_p0.25_q0.5 .emb ## For comparison with node2vec\n",
    "    n2v_plus_p4_q0.5 .txt  ## Best hyper-param\n",
    "'''"
   ]
  },
  {
   "cell_type": "code",
   "execution_count": 11,
   "id": "561561fc",
   "metadata": {},
   "outputs": [],
   "source": [
    "# # Best\n",
    "hyper_param = 'vae_h256_128'\n",
    "edit_data_path = 'Embeddings/Graph/Best/Nov_2022/' "
   ]
  },
  {
   "cell_type": "code",
   "execution_count": 12,
   "id": "71a50ee6",
   "metadata": {},
   "outputs": [],
   "source": [
    "# # Worst\n",
    "# hyper_param = 'epochs_50' \n",
    "# edit_data_path = 'Embeddings/Graph/Worst/' "
   ]
  },
  {
   "cell_type": "code",
   "execution_count": 13,
   "id": "6afdeb06",
   "metadata": {},
   "outputs": [
    {
     "data": {
      "text/html": [
       "<div>\n",
       "<style scoped>\n",
       "    .dataframe tbody tr th:only-of-type {\n",
       "        vertical-align: middle;\n",
       "    }\n",
       "\n",
       "    .dataframe tbody tr th {\n",
       "        vertical-align: top;\n",
       "    }\n",
       "\n",
       "    .dataframe thead th {\n",
       "        text-align: right;\n",
       "    }\n",
       "</style>\n",
       "<table border=\"1\" class=\"dataframe\">\n",
       "  <thead>\n",
       "    <tr style=\"text-align: right;\">\n",
       "      <th></th>\n",
       "      <th>1</th>\n",
       "      <th>2</th>\n",
       "      <th>3</th>\n",
       "      <th>4</th>\n",
       "      <th>5</th>\n",
       "      <th>6</th>\n",
       "      <th>7</th>\n",
       "      <th>8</th>\n",
       "      <th>9</th>\n",
       "      <th>10</th>\n",
       "      <th>...</th>\n",
       "      <th>119</th>\n",
       "      <th>120</th>\n",
       "      <th>121</th>\n",
       "      <th>122</th>\n",
       "      <th>123</th>\n",
       "      <th>124</th>\n",
       "      <th>125</th>\n",
       "      <th>126</th>\n",
       "      <th>127</th>\n",
       "      <th>128</th>\n",
       "    </tr>\n",
       "    <tr>\n",
       "      <th>0</th>\n",
       "      <th></th>\n",
       "      <th></th>\n",
       "      <th></th>\n",
       "      <th></th>\n",
       "      <th></th>\n",
       "      <th></th>\n",
       "      <th></th>\n",
       "      <th></th>\n",
       "      <th></th>\n",
       "      <th></th>\n",
       "      <th></th>\n",
       "      <th></th>\n",
       "      <th></th>\n",
       "      <th></th>\n",
       "      <th></th>\n",
       "      <th></th>\n",
       "      <th></th>\n",
       "      <th></th>\n",
       "      <th></th>\n",
       "      <th></th>\n",
       "      <th></th>\n",
       "    </tr>\n",
       "  </thead>\n",
       "  <tbody>\n",
       "    <tr>\n",
       "      <th>0</th>\n",
       "      <td>0.540764</td>\n",
       "      <td>-0.074471</td>\n",
       "      <td>0.383962</td>\n",
       "      <td>-0.097833</td>\n",
       "      <td>-0.031337</td>\n",
       "      <td>4.103184</td>\n",
       "      <td>-0.150652</td>\n",
       "      <td>0.324719</td>\n",
       "      <td>0.277000</td>\n",
       "      <td>0.477717</td>\n",
       "      <td>...</td>\n",
       "      <td>-0.477993</td>\n",
       "      <td>0.307477</td>\n",
       "      <td>6.643920</td>\n",
       "      <td>-0.519499</td>\n",
       "      <td>3.874137</td>\n",
       "      <td>0.534100</td>\n",
       "      <td>-11.072546</td>\n",
       "      <td>-0.173125</td>\n",
       "      <td>-12.428924</td>\n",
       "      <td>-1.379751</td>\n",
       "    </tr>\n",
       "    <tr>\n",
       "      <th>1</th>\n",
       "      <td>0.540793</td>\n",
       "      <td>-0.074484</td>\n",
       "      <td>0.383904</td>\n",
       "      <td>-0.097869</td>\n",
       "      <td>-0.031338</td>\n",
       "      <td>4.102888</td>\n",
       "      <td>-0.150634</td>\n",
       "      <td>0.324775</td>\n",
       "      <td>0.277009</td>\n",
       "      <td>0.477732</td>\n",
       "      <td>...</td>\n",
       "      <td>-0.477988</td>\n",
       "      <td>0.307457</td>\n",
       "      <td>6.643532</td>\n",
       "      <td>-0.519509</td>\n",
       "      <td>3.873851</td>\n",
       "      <td>0.534076</td>\n",
       "      <td>-11.071804</td>\n",
       "      <td>-0.173140</td>\n",
       "      <td>-12.428087</td>\n",
       "      <td>-1.379685</td>\n",
       "    </tr>\n",
       "    <tr>\n",
       "      <th>2</th>\n",
       "      <td>0.540751</td>\n",
       "      <td>-0.074479</td>\n",
       "      <td>0.383908</td>\n",
       "      <td>-0.097840</td>\n",
       "      <td>-0.031321</td>\n",
       "      <td>4.102774</td>\n",
       "      <td>-0.150611</td>\n",
       "      <td>0.324749</td>\n",
       "      <td>0.277002</td>\n",
       "      <td>0.477723</td>\n",
       "      <td>...</td>\n",
       "      <td>-0.477981</td>\n",
       "      <td>0.307489</td>\n",
       "      <td>6.643270</td>\n",
       "      <td>-0.519513</td>\n",
       "      <td>3.873726</td>\n",
       "      <td>0.534066</td>\n",
       "      <td>-11.071448</td>\n",
       "      <td>-0.173123</td>\n",
       "      <td>-12.427685</td>\n",
       "      <td>-1.379560</td>\n",
       "    </tr>\n",
       "    <tr>\n",
       "      <th>3</th>\n",
       "      <td>0.540848</td>\n",
       "      <td>-0.074434</td>\n",
       "      <td>0.383915</td>\n",
       "      <td>-0.097807</td>\n",
       "      <td>-0.031223</td>\n",
       "      <td>4.102927</td>\n",
       "      <td>-0.150636</td>\n",
       "      <td>0.324706</td>\n",
       "      <td>0.276876</td>\n",
       "      <td>0.477570</td>\n",
       "      <td>...</td>\n",
       "      <td>-0.478071</td>\n",
       "      <td>0.307481</td>\n",
       "      <td>6.643401</td>\n",
       "      <td>-0.519436</td>\n",
       "      <td>3.873921</td>\n",
       "      <td>0.534128</td>\n",
       "      <td>-11.071972</td>\n",
       "      <td>-0.173212</td>\n",
       "      <td>-12.428182</td>\n",
       "      <td>-1.379722</td>\n",
       "    </tr>\n",
       "    <tr>\n",
       "      <th>4</th>\n",
       "      <td>0.540764</td>\n",
       "      <td>-0.074471</td>\n",
       "      <td>0.383962</td>\n",
       "      <td>-0.097833</td>\n",
       "      <td>-0.031337</td>\n",
       "      <td>4.103184</td>\n",
       "      <td>-0.150652</td>\n",
       "      <td>0.324719</td>\n",
       "      <td>0.277000</td>\n",
       "      <td>0.477717</td>\n",
       "      <td>...</td>\n",
       "      <td>-0.477993</td>\n",
       "      <td>0.307477</td>\n",
       "      <td>6.643920</td>\n",
       "      <td>-0.519499</td>\n",
       "      <td>3.874137</td>\n",
       "      <td>0.534099</td>\n",
       "      <td>-11.072546</td>\n",
       "      <td>-0.173125</td>\n",
       "      <td>-12.428924</td>\n",
       "      <td>-1.379751</td>\n",
       "    </tr>\n",
       "    <tr>\n",
       "      <th>...</th>\n",
       "      <td>...</td>\n",
       "      <td>...</td>\n",
       "      <td>...</td>\n",
       "      <td>...</td>\n",
       "      <td>...</td>\n",
       "      <td>...</td>\n",
       "      <td>...</td>\n",
       "      <td>...</td>\n",
       "      <td>...</td>\n",
       "      <td>...</td>\n",
       "      <td>...</td>\n",
       "      <td>...</td>\n",
       "      <td>...</td>\n",
       "      <td>...</td>\n",
       "      <td>...</td>\n",
       "      <td>...</td>\n",
       "      <td>...</td>\n",
       "      <td>...</td>\n",
       "      <td>...</td>\n",
       "      <td>...</td>\n",
       "      <td>...</td>\n",
       "    </tr>\n",
       "    <tr>\n",
       "      <th>15680</th>\n",
       "      <td>0.002448</td>\n",
       "      <td>-0.006539</td>\n",
       "      <td>0.011832</td>\n",
       "      <td>-0.013023</td>\n",
       "      <td>0.001305</td>\n",
       "      <td>0.016057</td>\n",
       "      <td>-0.007629</td>\n",
       "      <td>0.000014</td>\n",
       "      <td>-0.006263</td>\n",
       "      <td>-0.014003</td>\n",
       "      <td>...</td>\n",
       "      <td>-0.002519</td>\n",
       "      <td>0.005173</td>\n",
       "      <td>0.033190</td>\n",
       "      <td>0.006583</td>\n",
       "      <td>0.026131</td>\n",
       "      <td>-0.007516</td>\n",
       "      <td>-0.059987</td>\n",
       "      <td>-0.002148</td>\n",
       "      <td>-0.067686</td>\n",
       "      <td>-0.009365</td>\n",
       "    </tr>\n",
       "    <tr>\n",
       "      <th>15681</th>\n",
       "      <td>0.001875</td>\n",
       "      <td>-0.005003</td>\n",
       "      <td>0.012369</td>\n",
       "      <td>-0.013823</td>\n",
       "      <td>0.000918</td>\n",
       "      <td>0.008881</td>\n",
       "      <td>-0.007676</td>\n",
       "      <td>-0.000834</td>\n",
       "      <td>-0.007968</td>\n",
       "      <td>-0.014915</td>\n",
       "      <td>...</td>\n",
       "      <td>-0.002360</td>\n",
       "      <td>0.004136</td>\n",
       "      <td>0.022122</td>\n",
       "      <td>0.007336</td>\n",
       "      <td>0.019988</td>\n",
       "      <td>-0.008397</td>\n",
       "      <td>-0.042264</td>\n",
       "      <td>-0.000949</td>\n",
       "      <td>-0.047630</td>\n",
       "      <td>-0.006276</td>\n",
       "    </tr>\n",
       "    <tr>\n",
       "      <th>15682</th>\n",
       "      <td>0.004357</td>\n",
       "      <td>-0.005840</td>\n",
       "      <td>0.012872</td>\n",
       "      <td>-0.015210</td>\n",
       "      <td>0.002007</td>\n",
       "      <td>0.013157</td>\n",
       "      <td>-0.007716</td>\n",
       "      <td>-0.000183</td>\n",
       "      <td>-0.007602</td>\n",
       "      <td>-0.015056</td>\n",
       "      <td>...</td>\n",
       "      <td>-0.003914</td>\n",
       "      <td>0.005561</td>\n",
       "      <td>0.028960</td>\n",
       "      <td>0.007058</td>\n",
       "      <td>0.024362</td>\n",
       "      <td>-0.007782</td>\n",
       "      <td>-0.055039</td>\n",
       "      <td>-0.001124</td>\n",
       "      <td>-0.061892</td>\n",
       "      <td>-0.007542</td>\n",
       "    </tr>\n",
       "    <tr>\n",
       "      <th>15683</th>\n",
       "      <td>0.003840</td>\n",
       "      <td>-0.006445</td>\n",
       "      <td>0.011123</td>\n",
       "      <td>-0.012877</td>\n",
       "      <td>0.000418</td>\n",
       "      <td>0.015960</td>\n",
       "      <td>-0.007805</td>\n",
       "      <td>-0.000185</td>\n",
       "      <td>-0.007566</td>\n",
       "      <td>-0.013741</td>\n",
       "      <td>...</td>\n",
       "      <td>-0.002495</td>\n",
       "      <td>0.003658</td>\n",
       "      <td>0.033367</td>\n",
       "      <td>0.006836</td>\n",
       "      <td>0.026369</td>\n",
       "      <td>-0.007044</td>\n",
       "      <td>-0.060917</td>\n",
       "      <td>-0.002217</td>\n",
       "      <td>-0.068402</td>\n",
       "      <td>-0.009383</td>\n",
       "    </tr>\n",
       "    <tr>\n",
       "      <th>15684</th>\n",
       "      <td>0.002816</td>\n",
       "      <td>-0.005518</td>\n",
       "      <td>0.011777</td>\n",
       "      <td>-0.013391</td>\n",
       "      <td>0.001180</td>\n",
       "      <td>0.010512</td>\n",
       "      <td>-0.007593</td>\n",
       "      <td>0.000291</td>\n",
       "      <td>-0.006815</td>\n",
       "      <td>-0.013381</td>\n",
       "      <td>...</td>\n",
       "      <td>-0.003925</td>\n",
       "      <td>0.004532</td>\n",
       "      <td>0.022730</td>\n",
       "      <td>0.006093</td>\n",
       "      <td>0.019973</td>\n",
       "      <td>-0.007480</td>\n",
       "      <td>-0.043400</td>\n",
       "      <td>-0.000294</td>\n",
       "      <td>-0.048068</td>\n",
       "      <td>-0.006288</td>\n",
       "    </tr>\n",
       "  </tbody>\n",
       "</table>\n",
       "<p>15685 rows × 128 columns</p>\n",
       "</div>"
      ],
      "text/plain": [
       "            1         2         3         4         5         6         7    \\\n",
       "0                                                                             \n",
       "0      0.540764 -0.074471  0.383962 -0.097833 -0.031337  4.103184 -0.150652   \n",
       "1      0.540793 -0.074484  0.383904 -0.097869 -0.031338  4.102888 -0.150634   \n",
       "2      0.540751 -0.074479  0.383908 -0.097840 -0.031321  4.102774 -0.150611   \n",
       "3      0.540848 -0.074434  0.383915 -0.097807 -0.031223  4.102927 -0.150636   \n",
       "4      0.540764 -0.074471  0.383962 -0.097833 -0.031337  4.103184 -0.150652   \n",
       "...         ...       ...       ...       ...       ...       ...       ...   \n",
       "15680  0.002448 -0.006539  0.011832 -0.013023  0.001305  0.016057 -0.007629   \n",
       "15681  0.001875 -0.005003  0.012369 -0.013823  0.000918  0.008881 -0.007676   \n",
       "15682  0.004357 -0.005840  0.012872 -0.015210  0.002007  0.013157 -0.007716   \n",
       "15683  0.003840 -0.006445  0.011123 -0.012877  0.000418  0.015960 -0.007805   \n",
       "15684  0.002816 -0.005518  0.011777 -0.013391  0.001180  0.010512 -0.007593   \n",
       "\n",
       "            8         9         10   ...       119       120       121  \\\n",
       "0                                    ...                                 \n",
       "0      0.324719  0.277000  0.477717  ... -0.477993  0.307477  6.643920   \n",
       "1      0.324775  0.277009  0.477732  ... -0.477988  0.307457  6.643532   \n",
       "2      0.324749  0.277002  0.477723  ... -0.477981  0.307489  6.643270   \n",
       "3      0.324706  0.276876  0.477570  ... -0.478071  0.307481  6.643401   \n",
       "4      0.324719  0.277000  0.477717  ... -0.477993  0.307477  6.643920   \n",
       "...         ...       ...       ...  ...       ...       ...       ...   \n",
       "15680  0.000014 -0.006263 -0.014003  ... -0.002519  0.005173  0.033190   \n",
       "15681 -0.000834 -0.007968 -0.014915  ... -0.002360  0.004136  0.022122   \n",
       "15682 -0.000183 -0.007602 -0.015056  ... -0.003914  0.005561  0.028960   \n",
       "15683 -0.000185 -0.007566 -0.013741  ... -0.002495  0.003658  0.033367   \n",
       "15684  0.000291 -0.006815 -0.013381  ... -0.003925  0.004532  0.022730   \n",
       "\n",
       "            122       123       124        125       126        127       128  \n",
       "0                                                                              \n",
       "0     -0.519499  3.874137  0.534100 -11.072546 -0.173125 -12.428924 -1.379751  \n",
       "1     -0.519509  3.873851  0.534076 -11.071804 -0.173140 -12.428087 -1.379685  \n",
       "2     -0.519513  3.873726  0.534066 -11.071448 -0.173123 -12.427685 -1.379560  \n",
       "3     -0.519436  3.873921  0.534128 -11.071972 -0.173212 -12.428182 -1.379722  \n",
       "4     -0.519499  3.874137  0.534099 -11.072546 -0.173125 -12.428924 -1.379751  \n",
       "...         ...       ...       ...        ...       ...        ...       ...  \n",
       "15680  0.006583  0.026131 -0.007516  -0.059987 -0.002148  -0.067686 -0.009365  \n",
       "15681  0.007336  0.019988 -0.008397  -0.042264 -0.000949  -0.047630 -0.006276  \n",
       "15682  0.007058  0.024362 -0.007782  -0.055039 -0.001124  -0.061892 -0.007542  \n",
       "15683  0.006836  0.026369 -0.007044  -0.060917 -0.002217  -0.068402 -0.009383  \n",
       "15684  0.006093  0.019973 -0.007480  -0.043400 -0.000294  -0.048068 -0.006288  \n",
       "\n",
       "[15685 rows x 128 columns]"
      ]
     },
     "execution_count": 13,
     "metadata": {},
     "output_type": "execute_result"
    }
   ],
   "source": [
    "## deepwalk, node2vec, struc2vec, LINE\n",
    "# emb = pd.read_csv(edit_data_path + hyper_param + '.csv', skiprows=1, header = None)\n",
    "\n",
    "## SDNE, GraRep, VAE, ripple2vec, node2vec+\n",
    "emb = pd.read_csv(edit_data_path + hyper_param + '.txt', sep=' ', skiprows=1, header = None)\n",
    "\n",
    "## node2vec+ \n",
    "# emb = pd.read_csv(edit_data_path + hyper_param + '.emb', sep=' ', skiprows=1, header = None)\n",
    " \n",
    "emb_f = emb.sort_values(by=[0]).set_index([0])\n",
    "emb_f"
   ]
  },
  {
   "cell_type": "code",
   "execution_count": 14,
   "id": "09f446cb",
   "metadata": {},
   "outputs": [
    {
     "name": "stdout",
     "output_type": "stream",
     "text": [
      "(15685, 128)\n",
      "[[ 5.4076420e-01 -7.4470680e-02  3.8396215e-01 ... -1.7312527e-01\n",
      "  -1.2428924e+01 -1.3797512e+00]\n",
      " [ 5.4079280e-01 -7.4483700e-02  3.8390420e-01 ... -1.7314035e-01\n",
      "  -1.2428087e+01 -1.3796847e+00]\n",
      " [ 5.4075116e-01 -7.4479160e-02  3.8390810e-01 ... -1.7312340e-01\n",
      "  -1.2427685e+01 -1.3795596e+00]\n",
      " ...\n",
      " [ 4.3571293e-03 -5.8396314e-03  1.2872243e-02 ... -1.1244385e-03\n",
      "  -6.1892062e-02 -7.5421077e-03]\n",
      " [ 3.8400188e-03 -6.4454456e-03  1.1123202e-02 ... -2.2174837e-03\n",
      "  -6.8401880e-02 -9.3829790e-03]\n",
      " [ 2.8160654e-03 -5.5179300e-03  1.1777018e-02 ... -2.9390742e-04\n",
      "  -4.8068404e-02 -6.2877090e-03]]\n"
     ]
    }
   ],
   "source": [
    "g_features = emb_f.sort_index().values\n",
    "print(g_features.shape)\n",
    "print(g_features)"
   ]
  },
  {
   "cell_type": "markdown",
   "id": "a9c1c3c1",
   "metadata": {},
   "source": [
    "## Protein Embeddings "
   ]
  },
  {
   "cell_type": "code",
   "execution_count": 15,
   "id": "3927f062",
   "metadata": {},
   "outputs": [],
   "source": [
    "# emb_name = 'CTD'"
   ]
  },
  {
   "cell_type": "code",
   "execution_count": 16,
   "id": "9bac7a0a",
   "metadata": {},
   "outputs": [],
   "source": [
    "# edit_data_path = 'Embeddings/Protein/' + emb_name \n",
    "\n",
    "# ## Load npz\n",
    "# read_emb = sparse.load_npz(edit_data_path + '.npz')\n",
    "# p_features = read_emb.toarray()\n",
    "\n",
    "# print(p_features.shape)\n",
    "# print(p_features)\n",
    "\n",
    "# mapper = umap.UMAP().fit(p_features)\n",
    "# umap.plot.points(mapper, labels=target)"
   ]
  },
  {
   "cell_type": "markdown",
   "id": "ed7c9fe7",
   "metadata": {},
   "source": [
    "# Edge Embeddings"
   ]
  },
  {
   "cell_type": "code",
   "execution_count": 17,
   "id": "83f800f5",
   "metadata": {},
   "outputs": [
    {
     "data": {
      "text/plain": [
       "'\\n    Group human proteins into classes - according to HVPPI interaction potential thresholds\\n    \\n    (A) 0.143 <= Score < 0.212 (0.90)\\n    (B) 0.212 <= Score < 0.375 (0.95)\\n    (C) Score >= 0.375 (0.99)\\n    (D) Score < 0.143\\n    \\n    Pro1ID --- Human\\n    Pro2ID --- IAV\\n'"
      ]
     },
     "execution_count": 17,
     "metadata": {},
     "output_type": "execute_result"
    }
   ],
   "source": [
    "'''\n",
    "    Group human proteins into classes - according to HVPPI interaction potential thresholds\n",
    "    \n",
    "    (A) 0.143 <= Score < 0.212 (0.90)\n",
    "    (B) 0.212 <= Score < 0.375 (0.95)\n",
    "    (C) Score >= 0.375 (0.99)\n",
    "    (D) Score < 0.143\n",
    "    \n",
    "    Pro1ID --- Human\n",
    "    Pro2ID --- IAV\n",
    "'''"
   ]
  },
  {
   "cell_type": "code",
   "execution_count": 18,
   "id": "81fbbc85",
   "metadata": {},
   "outputs": [],
   "source": [
    "## Get edge embeddings from node embeddings\n",
    "\n",
    "def generate_edge_emb(input_df, input_feat):\n",
    "    \n",
    "    edges_count = input_df.shape[0]\n",
    "\n",
    "    X = np.empty((edges_count, input_feat.shape[1])) ## All embeddings\n",
    "    k = 0\n",
    "\n",
    "    for i in range(len(input_df)):\n",
    "\n",
    "#         print(input_df['Protein1_ID'][i], input_df['Protein2_ID'][i])\n",
    "\n",
    "        u = input_feat[input_df['Protein1_ID'][i]]\n",
    "        v = input_feat[input_df['Protein2_ID'][i]]\n",
    "\n",
    "        hadamard = np.multiply(u, v)\n",
    "\n",
    "        X[k] = hadamard\n",
    "        k = k + 1\n",
    "\n",
    "    print(X)\n",
    "    print(X.shape)\n",
    "    \n",
    "    ## Target\n",
    "    target = input_df['Class'].values\n",
    "#     print(target)\n",
    "    \n",
    "    return X, target"
   ]
  },
  {
   "cell_type": "code",
   "execution_count": 19,
   "id": "fdc60423",
   "metadata": {},
   "outputs": [],
   "source": [
    "# ## ALL EDGES\n",
    "\n",
    "# edge_emb = pd.read_csv('./hvppi_edgelist_idx.csv')\n",
    "# edge_emb\n",
    "\n",
    "# print(edge_emb['Class'].value_counts())\n",
    "# print(\"============================================================\")"
   ]
  },
  {
   "cell_type": "code",
   "execution_count": 20,
   "id": "978adf85",
   "metadata": {},
   "outputs": [],
   "source": [
    "# Plot only classes A, B and C\n",
    "# edge_emb_f = edge_emb[edge_emb['Class'] != 'D']\n",
    "# edge_emb_f\n",
    "\n",
    "# class_C_df = edge_emb_f[edge_emb_f['Class']=='C']\n",
    "# print(class_C_df['Score'].min(), class_C_df['Score'].max())\n",
    "\n",
    "# class_B_df = edge_emb_f[edge_emb_f['Class']=='B']\n",
    "# print(class_B_df['Score'].min(), class_B_df['Score'].max())\n",
    "\n",
    "# class_A_df = edge_emb_f[edge_emb_f['Class']=='A']\n",
    "# print(class_A_df['Score'].min(), class_A_df['Score'].max())"
   ]
  },
  {
   "cell_type": "code",
   "execution_count": 21,
   "id": "a3cc26f2",
   "metadata": {},
   "outputs": [],
   "source": [
    "# # Add class label\n",
    "# # edge_emb['Class'] = ''\n",
    "\n",
    "# edge_emb.loc[(edge_emb['Score'] >= 0.143) & (edge_emb['Score'] < 0.212), 'Class'] = 'A'\n",
    "# edge_emb.loc[(edge_emb['Score'] >= 0.212) & (edge_emb['Score'] < 0.375), 'Class'] = 'B'\n",
    "# edge_emb.loc[edge_emb['Score'] >= 0.375, 'Class'] = 'C'\n",
    "# edge_emb.loc[edge_emb['Score'] < 0.143, 'Class'] = 'D'\n",
    "\n",
    "# edge_emb\n",
    "\n",
    "# # edge_emb.to_csv('./hvppi_edgelist_idx.csv', index=False)"
   ]
  },
  {
   "cell_type": "code",
   "execution_count": 22,
   "id": "f1f5a18f",
   "metadata": {},
   "outputs": [],
   "source": [
    "## TRAIN/TEST EDGES\n",
    "\n",
    "# edge_emb_f = pd.read_csv('umap_train_test_dataset.csv') \n",
    "# edge_emb_f = pd.read_csv('umap_train_test_dataset_2.csv') ## 2 classes\n",
    "\n",
    "# edge_emb_f"
   ]
  },
  {
   "cell_type": "code",
   "execution_count": 23,
   "id": "8cbfa808",
   "metadata": {},
   "outputs": [],
   "source": [
    "# edge_emb_f = pd.read_csv('umap_expt_test.csv') ## Experimentally Verified"
   ]
  },
  {
   "cell_type": "code",
   "execution_count": 24,
   "id": "0107706f",
   "metadata": {},
   "outputs": [],
   "source": [
    "# ## TEST (Actual VS Predicted)\n",
    "\n",
    "# edge_emb = pd.read_csv('umap_train_test_dataset.csv') \n",
    "# # edge_emb\n",
    "\n",
    "# edge_emb_f = edge_emb[(edge_emb['Class'] == 'test_pos') | (edge_emb['Class'] == 'test_neg')].reset_index(drop=True)\n",
    "# # edge_emb_f\n",
    "\n",
    "# ## Read predictions\n",
    "# FNN_pred = pd.read_csv('Eval_Results/umap_plot_preds/VAE.csv') ## Choose dataframe!!!!!\n",
    "# FNN_pred = FNN_pred[['Protein1_ID', 'Protein2_ID', 'Class_4']] ## Choose class!!!!!\n",
    "# FNN_pred.columns = ['Protein1_ID', 'Protein2_ID', 'Class']\n",
    "\n",
    "# ## Plot only FN and FP \n",
    "# FNN_pred_f = FNN_pred[(FNN_pred['Class'] == 'FN') | (FNN_pred['Class'] == 'FP')]\n",
    "\n",
    "# ## Concat\n",
    "# edge_emb_f = pd.concat([edge_emb_f, FNN_pred_f], ignore_index=True)\n",
    "# edge_emb_f"
   ]
  },
  {
   "cell_type": "markdown",
   "id": "f797a833",
   "metadata": {},
   "source": [
    "#### Get Score & Class for Train/Test dataset"
   ]
  },
  {
   "cell_type": "code",
   "execution_count": 25,
   "id": "678f6aaf",
   "metadata": {},
   "outputs": [
    {
     "data": {
      "text/html": [
       "<div>\n",
       "<style scoped>\n",
       "    .dataframe tbody tr th:only-of-type {\n",
       "        vertical-align: middle;\n",
       "    }\n",
       "\n",
       "    .dataframe tbody tr th {\n",
       "        vertical-align: top;\n",
       "    }\n",
       "\n",
       "    .dataframe thead th {\n",
       "        text-align: right;\n",
       "    }\n",
       "</style>\n",
       "<table border=\"1\" class=\"dataframe\">\n",
       "  <thead>\n",
       "    <tr style=\"text-align: right;\">\n",
       "      <th></th>\n",
       "      <th>Protein1_ID</th>\n",
       "      <th>Protein2_ID</th>\n",
       "      <th>Score</th>\n",
       "      <th>Class</th>\n",
       "    </tr>\n",
       "  </thead>\n",
       "  <tbody>\n",
       "    <tr>\n",
       "      <th>0</th>\n",
       "      <td>9561</td>\n",
       "      <td>7</td>\n",
       "      <td>0.990</td>\n",
       "      <td>C</td>\n",
       "    </tr>\n",
       "    <tr>\n",
       "      <th>1</th>\n",
       "      <td>11092</td>\n",
       "      <td>7</td>\n",
       "      <td>0.988</td>\n",
       "      <td>C</td>\n",
       "    </tr>\n",
       "    <tr>\n",
       "      <th>2</th>\n",
       "      <td>2803</td>\n",
       "      <td>7</td>\n",
       "      <td>0.988</td>\n",
       "      <td>C</td>\n",
       "    </tr>\n",
       "    <tr>\n",
       "      <th>3</th>\n",
       "      <td>10381</td>\n",
       "      <td>7</td>\n",
       "      <td>0.985</td>\n",
       "      <td>C</td>\n",
       "    </tr>\n",
       "    <tr>\n",
       "      <th>4</th>\n",
       "      <td>1068</td>\n",
       "      <td>7</td>\n",
       "      <td>0.983</td>\n",
       "      <td>C</td>\n",
       "    </tr>\n",
       "    <tr>\n",
       "      <th>...</th>\n",
       "      <td>...</td>\n",
       "      <td>...</td>\n",
       "      <td>...</td>\n",
       "      <td>...</td>\n",
       "    </tr>\n",
       "    <tr>\n",
       "      <th>272071</th>\n",
       "      <td>14358</td>\n",
       "      <td>30</td>\n",
       "      <td>0.001</td>\n",
       "      <td>D</td>\n",
       "    </tr>\n",
       "    <tr>\n",
       "      <th>272072</th>\n",
       "      <td>4604</td>\n",
       "      <td>30</td>\n",
       "      <td>0.001</td>\n",
       "      <td>D</td>\n",
       "    </tr>\n",
       "    <tr>\n",
       "      <th>272073</th>\n",
       "      <td>9166</td>\n",
       "      <td>30</td>\n",
       "      <td>0.001</td>\n",
       "      <td>D</td>\n",
       "    </tr>\n",
       "    <tr>\n",
       "      <th>272074</th>\n",
       "      <td>14775</td>\n",
       "      <td>30</td>\n",
       "      <td>0.001</td>\n",
       "      <td>D</td>\n",
       "    </tr>\n",
       "    <tr>\n",
       "      <th>272075</th>\n",
       "      <td>15394</td>\n",
       "      <td>30</td>\n",
       "      <td>0.001</td>\n",
       "      <td>D</td>\n",
       "    </tr>\n",
       "  </tbody>\n",
       "</table>\n",
       "<p>272076 rows × 4 columns</p>\n",
       "</div>"
      ],
      "text/plain": [
       "        Protein1_ID  Protein2_ID  Score Class\n",
       "0              9561            7  0.990     C\n",
       "1             11092            7  0.988     C\n",
       "2              2803            7  0.988     C\n",
       "3             10381            7  0.985     C\n",
       "4              1068            7  0.983     C\n",
       "...             ...          ...    ...   ...\n",
       "272071        14358           30  0.001     D\n",
       "272072         4604           30  0.001     D\n",
       "272073         9166           30  0.001     D\n",
       "272074        14775           30  0.001     D\n",
       "272075        15394           30  0.001     D\n",
       "\n",
       "[272076 rows x 4 columns]"
      ]
     },
     "execution_count": 25,
     "metadata": {},
     "output_type": "execute_result"
    }
   ],
   "source": [
    "## ALL EDGES\n",
    "\n",
    "edge_emb = pd.read_csv('./hvppi_edgelist_idx.csv')\n",
    "edge_emb"
   ]
  },
  {
   "cell_type": "code",
   "execution_count": 26,
   "id": "5ea84429",
   "metadata": {},
   "outputs": [
    {
     "name": "stdout",
     "output_type": "stream",
     "text": [
      "D    223194\n",
      "A     30228\n",
      "B     15782\n",
      "C      2872\n",
      "Name: Class, dtype: int64\n",
      "============================================================\n"
     ]
    }
   ],
   "source": [
    "print(edge_emb['Class'].value_counts())\n",
    "print(\"============================================================\")"
   ]
  },
  {
   "cell_type": "code",
   "execution_count": 27,
   "id": "2c1a6838",
   "metadata": {},
   "outputs": [
    {
     "data": {
      "text/html": [
       "<div>\n",
       "<style scoped>\n",
       "    .dataframe tbody tr th:only-of-type {\n",
       "        vertical-align: middle;\n",
       "    }\n",
       "\n",
       "    .dataframe tbody tr th {\n",
       "        vertical-align: top;\n",
       "    }\n",
       "\n",
       "    .dataframe thead th {\n",
       "        text-align: right;\n",
       "    }\n",
       "</style>\n",
       "<table border=\"1\" class=\"dataframe\">\n",
       "  <thead>\n",
       "    <tr style=\"text-align: right;\">\n",
       "      <th></th>\n",
       "      <th>Protein1_ID</th>\n",
       "      <th>Protein2_ID</th>\n",
       "      <th>Class</th>\n",
       "    </tr>\n",
       "  </thead>\n",
       "  <tbody>\n",
       "    <tr>\n",
       "      <th>0</th>\n",
       "      <td>9561</td>\n",
       "      <td>7</td>\n",
       "      <td>C</td>\n",
       "    </tr>\n",
       "    <tr>\n",
       "      <th>1</th>\n",
       "      <td>11092</td>\n",
       "      <td>7</td>\n",
       "      <td>C</td>\n",
       "    </tr>\n",
       "    <tr>\n",
       "      <th>2</th>\n",
       "      <td>10381</td>\n",
       "      <td>7</td>\n",
       "      <td>C</td>\n",
       "    </tr>\n",
       "    <tr>\n",
       "      <th>3</th>\n",
       "      <td>1068</td>\n",
       "      <td>7</td>\n",
       "      <td>C</td>\n",
       "    </tr>\n",
       "    <tr>\n",
       "      <th>4</th>\n",
       "      <td>13956</td>\n",
       "      <td>7</td>\n",
       "      <td>C</td>\n",
       "    </tr>\n",
       "    <tr>\n",
       "      <th>...</th>\n",
       "      <td>...</td>\n",
       "      <td>...</td>\n",
       "      <td>...</td>\n",
       "    </tr>\n",
       "    <tr>\n",
       "      <th>8773</th>\n",
       "      <td>14890</td>\n",
       "      <td>30</td>\n",
       "      <td>D</td>\n",
       "    </tr>\n",
       "    <tr>\n",
       "      <th>8774</th>\n",
       "      <td>15118</td>\n",
       "      <td>30</td>\n",
       "      <td>D</td>\n",
       "    </tr>\n",
       "    <tr>\n",
       "      <th>8775</th>\n",
       "      <td>3257</td>\n",
       "      <td>30</td>\n",
       "      <td>D</td>\n",
       "    </tr>\n",
       "    <tr>\n",
       "      <th>8776</th>\n",
       "      <td>15625</td>\n",
       "      <td>30</td>\n",
       "      <td>D</td>\n",
       "    </tr>\n",
       "    <tr>\n",
       "      <th>8777</th>\n",
       "      <td>4604</td>\n",
       "      <td>30</td>\n",
       "      <td>D</td>\n",
       "    </tr>\n",
       "  </tbody>\n",
       "</table>\n",
       "<p>8778 rows × 3 columns</p>\n",
       "</div>"
      ],
      "text/plain": [
       "      Protein1_ID  Protein2_ID Class\n",
       "0            9561            7     C\n",
       "1           11092            7     C\n",
       "2           10381            7     C\n",
       "3            1068            7     C\n",
       "4           13956            7     C\n",
       "...           ...          ...   ...\n",
       "8773        14890           30     D\n",
       "8774        15118           30     D\n",
       "8775         3257           30     D\n",
       "8776        15625           30     D\n",
       "8777         4604           30     D\n",
       "\n",
       "[8778 rows x 3 columns]"
      ]
     },
     "execution_count": 27,
     "metadata": {},
     "output_type": "execute_result"
    }
   ],
   "source": [
    "## Train/Test\n",
    "tt_df = pd.read_csv('umap_train_test_dataset.csv')\n",
    "tt_df = tt_df.drop(columns=['Class'])\n",
    "\n",
    "tt_df = pd.merge(edge_emb, tt_df, on=['Protein1_ID', 'Protein2_ID'])\n",
    "tt_df = tt_df.drop(columns=['Score'])\n",
    "tt_df"
   ]
  },
  {
   "cell_type": "code",
   "execution_count": 28,
   "id": "6fcbb620",
   "metadata": {},
   "outputs": [],
   "source": [
    "tt_df.loc[tt_df['Class'] == 'B', 'Class'] = '0.95'\n",
    "tt_df.loc[tt_df['Class'] == 'C', 'Class'] = '0.99'\n",
    "tt_df.loc[tt_df['Class'] == 'D', 'Class'] = 'neg'"
   ]
  },
  {
   "cell_type": "code",
   "execution_count": 29,
   "id": "34d8288d",
   "metadata": {},
   "outputs": [
    {
     "name": "stdout",
     "output_type": "stream",
     "text": [
      "neg     4378\n",
      "0.95    2942\n",
      "0.99    1458\n",
      "Name: Class, dtype: int64\n",
      "============================================================\n"
     ]
    }
   ],
   "source": [
    "print(tt_df['Class'].value_counts())\n",
    "print(\"============================================================\")"
   ]
  },
  {
   "cell_type": "markdown",
   "id": "39bee64f",
   "metadata": {},
   "source": [
    "# Call generate_edge_emb(input_df)"
   ]
  },
  {
   "cell_type": "code",
   "execution_count": 30,
   "id": "dde4018f",
   "metadata": {},
   "outputs": [
    {
     "name": "stdout",
     "output_type": "stream",
     "text": [
      "[[8.54259429e-04 3.58223965e-04 4.11048571e-03 ... 2.94001024e-04\n",
      "  5.36144247e-01 9.13231967e-03]\n",
      " [1.57783529e-03 3.96532600e-04 4.10052256e-03 ... 3.66499481e-04\n",
      "  6.20236595e-01 9.41156108e-03]\n",
      " [2.44132973e-03 4.17303514e-04 4.86433738e-03 ... 7.09171425e-05\n",
      "  7.05995105e-01 8.93002360e-03]\n",
      " ...\n",
      " [1.81815215e-03 4.45188823e-04 4.76160327e-03 ... 1.12585841e-04\n",
      "  6.60729452e-01 9.78466225e-03]\n",
      " [1.51484709e-03 4.72168137e-04 4.90641166e-03 ... 2.27578040e-04\n",
      "  7.51690388e-01 1.15631649e-02]\n",
      " [2.27296024e-03 3.78022052e-04 5.04529332e-03 ... 2.54817489e-04\n",
      "  8.56002012e-01 1.09750899e-02]]\n",
      "(8778, 128)\n"
     ]
    }
   ],
   "source": [
    "## train/test_pos, train/test_neg\n",
    "# edge_emb_arr, class_labels = generate_edge_emb(edge_emb_f, g_features) ## Graph\n",
    "# edge_emb_arr, class_labels = generate_edge_emb(edge_emb_f, p_features) ## Protein\n",
    "\n",
    "## 0.99, 0.95, neg\n",
    "edge_emb_arr, class_labels = generate_edge_emb(tt_df, g_features) ## Graph\n",
    "# edge_emb_arr, class_labels = generate_edge_emb(tt_df, p_features) ## Protein"
   ]
  },
  {
   "cell_type": "code",
   "execution_count": 31,
   "id": "9238bf54",
   "metadata": {
    "scrolled": true
   },
   "outputs": [],
   "source": [
    "## Plot\n",
    "mapper = umap.UMAP().fit(edge_emb_arr)"
   ]
  },
  {
   "cell_type": "code",
   "execution_count": 32,
   "id": "1c211b78",
   "metadata": {
    "scrolled": false
   },
   "outputs": [
    {
     "data": {
      "text/plain": [
       "<AxesSubplot:>"
      ]
     },
     "execution_count": 32,
     "metadata": {},
     "output_type": "execute_result"
    },
    {
     "data": {
      "image/png": "[encoded data removed]",
      "text/plain": [
       "<Figure size 800x800 with 1 Axes>"
      ]
     },
     "metadata": {},
     "output_type": "display_data"
    }
   ],
   "source": [
    "umap.plot.points(mapper, labels=class_labels, theme='fire')\n",
    "# umap.plot.points(mapper, labels=class_labels)"
   ]
  },
  {
   "cell_type": "code",
   "execution_count": 33,
   "id": "6c48f916",
   "metadata": {},
   "outputs": [
    {
     "data": {
      "image/png": "[encoded data removed]",
      "text/plain": [
       "<Figure size 432x288 with 2 Axes>"
      ]
     },
     "metadata": {
      "needs_background": "light"
     },
     "output_type": "display_data"
    }
   ],
   "source": [
    "## Local dimensions\n",
    "## Embeddings more accurate in regions where the points have consistently lower local dimension.\n",
    "local_dims = umap.plot.diagnostic(mapper, diagnostic_type='local_dim')"
   ]
  },
  {
   "cell_type": "code",
   "execution_count": 34,
   "id": "7b910346",
   "metadata": {},
   "outputs": [
    {
     "data": {
      "text/plain": [
       "<AxesSubplot:title={'center':'Colored by RGB coords of PCA embedding'}>"
      ]
     },
     "execution_count": 34,
     "metadata": {},
     "output_type": "execute_result"
    },
    {
     "data": {
      "image/png": "[encoded data removed]",
      "text/plain": [
       "<Figure size 432x288 with 1 Axes>"
      ]
     },
     "metadata": {},
     "output_type": "display_data"
    }
   ],
   "source": [
    "## PCA\n",
    "umap.plot.diagnostic(mapper, diagnostic_type='pca') ##  looking for here is a generally smooth transition of colors"
   ]
  },
  {
   "cell_type": "code",
   "execution_count": 35,
   "id": "2b6b2fe1",
   "metadata": {},
   "outputs": [],
   "source": [
    "# umap.plot.diagnostic(mapper, diagnostic_type = 'vq')"
   ]
  },
  {
   "cell_type": "code",
   "execution_count": 36,
   "id": "ceadf731",
   "metadata": {},
   "outputs": [],
   "source": [
    "# umap.plot.diagnostic(mapper, diagnostic_type='neighborhood')"
   ]
  },
  {
   "cell_type": "code",
   "execution_count": 37,
   "id": "bf1b3293",
   "metadata": {},
   "outputs": [],
   "source": [
    "# import seaborn as sns"
   ]
  },
  {
   "cell_type": "code",
   "execution_count": 38,
   "id": "c47bdc4f",
   "metadata": {},
   "outputs": [],
   "source": [
    "## To dataframe ??\n",
    "# to_df = pd.DataFrame(edge_emb_arr)\n",
    "# to_df['Class'] = class_labels\n",
    "# to_df"
   ]
  },
  {
   "cell_type": "code",
   "execution_count": 39,
   "id": "c60cd182",
   "metadata": {},
   "outputs": [],
   "source": [
    "# sns.pairplot(to_df, hue='Class')"
   ]
  },
  {
   "cell_type": "markdown",
   "id": "34640880",
   "metadata": {},
   "source": [
    "# Reference codes"
   ]
  },
  {
   "cell_type": "markdown",
   "id": "65fa3c7f",
   "metadata": {},
   "source": [
    "### Train/Test Dataframe"
   ]
  },
  {
   "cell_type": "code",
   "execution_count": 40,
   "id": "634bc090",
   "metadata": {},
   "outputs": [],
   "source": [
    "# import pandas as pd"
   ]
  },
  {
   "cell_type": "code",
   "execution_count": 41,
   "id": "4f90aae7",
   "metadata": {},
   "outputs": [],
   "source": [
    "# ## Experimentally verified test\n",
    "# expt = pd.read_csv('edges/Experimentally_Verified_Test/testset_1.csv')\n",
    "# expt['Class'] = ''\n",
    "# expt.loc[expt['label'] == 1, 'Class'] = 'test_pos'\n",
    "# expt.loc[expt['label'] == 0, 'Class'] = 'test_neg'\n",
    "# expt = expt.drop(columns=['label'])\n",
    "# expt"
   ]
  },
  {
   "cell_type": "code",
   "execution_count": 42,
   "id": "d8055199",
   "metadata": {},
   "outputs": [],
   "source": [
    "# edge_emb_f = pd.read_csv('train_test_dataset.csv') \n",
    "\n",
    "# edge_emb_ff = edge_emb_f[(edge_emb_f['Class'] == 'train_pos') | (edge_emb_f['Class'] == 'train_neg')]\n",
    "# edge_emb_ff = pd.concat([edge_emb_ff, expt], ignore_index=True)"
   ]
  },
  {
   "cell_type": "code",
   "execution_count": 43,
   "id": "a796b7c5",
   "metadata": {},
   "outputs": [],
   "source": [
    "# edge_emb_ff['Class'].value_counts()"
   ]
  },
  {
   "cell_type": "code",
   "execution_count": 44,
   "id": "972d69bb",
   "metadata": {},
   "outputs": [],
   "source": [
    "# ## TRAIN\n",
    "# pos = pd.read_csv('edges/Sept_2022_new/balanced/idx/b_pos_idx.csv')\n",
    "# pos['Class'] = 'train_pos'\n",
    "\n",
    "# neg = pd.read_csv('edges/Sept_2022_new/balanced/idx/b_neg_idx.csv')\n",
    "# neg['Class'] = 'train_neg'\n",
    "\n",
    "\n",
    "# ## TEST\n",
    "# test = pd.read_csv('edges/Sept_2022_new/balanced/idx/b_test_idx.csv')\n",
    "\n",
    "# test_pos = test[test['label'] == 1]\n",
    "# test_pos['Class'] = 'test_pos'\n",
    "\n",
    "# test_neg = test[test['label'] == 0]\n",
    "# test_neg['Class'] = 'test_neg'\n",
    "\n",
    "# df = pd.concat([pos, neg, test_pos, test_neg], ignore_index=True)\n",
    "# df = df.drop(columns=['label'])\n",
    "\n",
    "# # df.to_csv('train_test_dataset.csv', index=False)"
   ]
  },
  {
   "cell_type": "code",
   "execution_count": 45,
   "id": "f6a474a6",
   "metadata": {},
   "outputs": [],
   "source": [
    "# ## Plot\n",
    "# plt.rcParams[\"figure.figsize\"] = (12, 8)\n",
    "\n",
    "# fig, axs = plt.subplots(2, 4)\n",
    "# plt.setp(axs, xticks=[1, 3, 5, 7, 9], xticklabels=['2', '4', '6', '8', '10']) ## xticks starts from 0 (i.e. xticklabels 1)\n",
    "\n",
    "# locs, labels = plt.xticks()  # Get the current locations and labels.\n",
    "# print(locs, labels)\n",
    "\n",
    "# axs[0, 0].plot(acc)\n",
    "# axs[0, 0].set(ylabel='accuracy')\n",
    "\n",
    "# axs[0, 1].plot(sen, 'tab:orange')\n",
    "# axs[0, 1].set(ylabel='sensitivity(recall)')\n",
    "\n",
    "# axs[0, 2].plot(spec, 'tab:green')\n",
    "# axs[0, 2].set(ylabel='specificity')\n",
    "\n",
    "# axs[0, 3].plot(pre, 'tab:red')\n",
    "# axs[0, 3].set(ylabel='precision')\n",
    "\n",
    "# axs[1, 0].plot(f1, 'tab:purple')\n",
    "# axs[1, 0].set(ylabel='F1-Score')\n",
    "\n",
    "# axs[1, 1].plot(roc, 'tab:brown')\n",
    "# axs[1, 1].set(ylabel='ROC-AUC')\n",
    "\n",
    "# axs[1, 2].plot(pr, 'tab:pink')\n",
    "# axs[1, 2].set(ylabel='PR-AUC')\n",
    "\n",
    "# ## To-do: axs[1,3] how to hide??\n",
    "# fig.delaxes(axs[1,3])\n",
    "\n",
    "# fig.tight_layout()\n",
    "\n",
    "# plt.savefig('./eval_metrics_plts/' + mtd + '.png')\n",
    "# print('---Plot Saved---')"
   ]
  },
  {
   "cell_type": "code",
   "execution_count": 46,
   "id": "42d3b94c",
   "metadata": {},
   "outputs": [],
   "source": [
    "# len(pendigits.feature_names) ## dimensions"
   ]
  },
  {
   "cell_type": "code",
   "execution_count": 47,
   "id": "4d8188ba",
   "metadata": {},
   "outputs": [],
   "source": [
    "# pendigits.data.shape"
   ]
  },
  {
   "cell_type": "code",
   "execution_count": 48,
   "id": "767a5dde",
   "metadata": {},
   "outputs": [],
   "source": [
    "# len(pendigits.target)"
   ]
  },
  {
   "cell_type": "code",
   "execution_count": 49,
   "id": "68a9eaee",
   "metadata": {},
   "outputs": [],
   "source": [
    "# pendigits = sklearn.datasets.load_digits()\n",
    "# pendigits"
   ]
  },
  {
   "cell_type": "code",
   "execution_count": 50,
   "id": "cc18f7fc",
   "metadata": {},
   "outputs": [],
   "source": [
    "# mapper = umap.UMAP().fit(pendigits.data)"
   ]
  },
  {
   "cell_type": "code",
   "execution_count": 51,
   "id": "0eaae59e",
   "metadata": {},
   "outputs": [],
   "source": [
    "# umap.plot.points(mapper)"
   ]
  },
  {
   "cell_type": "code",
   "execution_count": 52,
   "id": "ea3106e4",
   "metadata": {},
   "outputs": [],
   "source": [
    "# umap.plot.points(mapper, labels=pendigits.target)"
   ]
  },
  {
   "cell_type": "code",
   "execution_count": null,
   "id": "55937d88",
   "metadata": {},
   "outputs": [],
   "source": []
  }
 ],
 "metadata": {
  "kernelspec": {
   "display_name": "Python 3 (ipykernel)",
   "language": "python",
   "name": "python3"
  },
  "language_info": {
   "codemirror_mode": {
    "name": "ipython",
    "version": 3
   },
   "file_extension": ".py",
   "mimetype": "text/x-python",
   "name": "python",
   "nbconvert_exporter": "python",
   "pygments_lexer": "ipython3",
   "version": "3.9.12"
  }
 },
 "nbformat": 4,
 "nbformat_minor": 5
}
