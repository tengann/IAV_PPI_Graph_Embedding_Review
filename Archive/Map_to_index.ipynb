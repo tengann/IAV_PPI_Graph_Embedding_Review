{
 "cells": [
  {
   "cell_type": "code",
   "execution_count": 1,
   "id": "dc1d622e",
   "metadata": {},
   "outputs": [],
   "source": [
    "import pandas as pd"
   ]
  },
  {
   "cell_type": "code",
   "execution_count": 2,
   "id": "cbe01fb4",
   "metadata": {},
   "outputs": [
    {
     "data": {
      "text/html": [
       "<div>\n",
       "<style scoped>\n",
       "    .dataframe tbody tr th:only-of-type {\n",
       "        vertical-align: middle;\n",
       "    }\n",
       "\n",
       "    .dataframe tbody tr th {\n",
       "        vertical-align: top;\n",
       "    }\n",
       "\n",
       "    .dataframe thead th {\n",
       "        text-align: right;\n",
       "    }\n",
       "</style>\n",
       "<table border=\"1\" class=\"dataframe\">\n",
       "  <thead>\n",
       "    <tr style=\"text-align: right;\">\n",
       "      <th></th>\n",
       "      <th>Unnamed: 0</th>\n",
       "      <th>Protein1_ID</th>\n",
       "    </tr>\n",
       "  </thead>\n",
       "  <tbody>\n",
       "    <tr>\n",
       "      <th>0</th>\n",
       "      <td>0</td>\n",
       "      <td>P03428</td>\n",
       "    </tr>\n",
       "    <tr>\n",
       "      <th>1</th>\n",
       "      <td>1</td>\n",
       "      <td>P03431</td>\n",
       "    </tr>\n",
       "    <tr>\n",
       "      <th>2</th>\n",
       "      <td>2</td>\n",
       "      <td>P03433</td>\n",
       "    </tr>\n",
       "    <tr>\n",
       "      <th>3</th>\n",
       "      <td>3</td>\n",
       "      <td>P03452</td>\n",
       "    </tr>\n",
       "    <tr>\n",
       "      <th>4</th>\n",
       "      <td>4</td>\n",
       "      <td>P03466</td>\n",
       "    </tr>\n",
       "    <tr>\n",
       "      <th>...</th>\n",
       "      <td>...</td>\n",
       "      <td>...</td>\n",
       "    </tr>\n",
       "    <tr>\n",
       "      <th>15680</th>\n",
       "      <td>15680</td>\n",
       "      <td>Q6NUS8</td>\n",
       "    </tr>\n",
       "    <tr>\n",
       "      <th>15681</th>\n",
       "      <td>15681</td>\n",
       "      <td>P12018</td>\n",
       "    </tr>\n",
       "    <tr>\n",
       "      <th>15682</th>\n",
       "      <td>15682</td>\n",
       "      <td>Q96IU2</td>\n",
       "    </tr>\n",
       "    <tr>\n",
       "      <th>15683</th>\n",
       "      <td>15683</td>\n",
       "      <td>Q6PEW1</td>\n",
       "    </tr>\n",
       "    <tr>\n",
       "      <th>15684</th>\n",
       "      <td>15684</td>\n",
       "      <td>P0CG32</td>\n",
       "    </tr>\n",
       "  </tbody>\n",
       "</table>\n",
       "<p>15685 rows × 2 columns</p>\n",
       "</div>"
      ],
      "text/plain": [
       "       Unnamed: 0 Protein1_ID\n",
       "0               0      P03428\n",
       "1               1      P03431\n",
       "2               2      P03433\n",
       "3               3      P03452\n",
       "4               4      P03466\n",
       "...           ...         ...\n",
       "15680       15680      Q6NUS8\n",
       "15681       15681      P12018\n",
       "15682       15682      Q96IU2\n",
       "15683       15683      Q6PEW1\n",
       "15684       15684      P0CG32\n",
       "\n",
       "[15685 rows x 2 columns]"
      ]
     },
     "execution_count": 2,
     "metadata": {},
     "output_type": "execute_result"
    }
   ],
   "source": [
    "protein_list = pd.read_csv('protein_list.csv')\n",
    "protein_list"
   ]
  },
  {
   "cell_type": "markdown",
   "id": "e3656d04",
   "metadata": {},
   "source": [
    "## Negative"
   ]
  },
  {
   "cell_type": "code",
   "execution_count": 3,
   "id": "2d9509db",
   "metadata": {},
   "outputs": [],
   "source": [
    "ds_names= ['neg_train_val_1_1', 'neg_train_val_1_3', 'neg_train_val_1_10', 'neg_train_val_1_25',\n",
    "         'test_1_1', 'test_1_3', 'test_1_10', 'test_1_25']"
   ]
  },
  {
   "cell_type": "code",
   "execution_count": 4,
   "id": "4adb76c6",
   "metadata": {},
   "outputs": [],
   "source": [
    "## Loop\n",
    "for i in range(len(ds_names)):\n",
    "    pos_org = pd.read_csv('edges/unbalanced_dataset/' + ds_names[i] + '.csv')\n",
    "    \n",
    "    pos_org_m1 = pd.merge(pos_org, protein_list, on=['Protein1_ID'])\n",
    "    pos_org_m1 = pd.merge(pos_org_m1, protein_list, left_on=['Protein2_ID'], right_on=['Protein1_ID'])\n",
    "    \n",
    "    pos_org_f = pos_org_m1[['Unnamed: 0_x', 'Unnamed: 0_y', 'label']]\n",
    "    \n",
    "    pos_org_f.to_csv('edges/unbalanced_dataset/index/' +  ds_names[i] + '.csv', index=False, header=['Protein1_ID', 'Protein2_ID', 'label'])"
   ]
  },
  {
   "cell_type": "markdown",
   "id": "93216996",
   "metadata": {},
   "source": [
    "## Positive"
   ]
  },
  {
   "cell_type": "code",
   "execution_count": null,
   "id": "e7b3cced",
   "metadata": {
    "scrolled": true
   },
   "outputs": [],
   "source": [
    "pos_org = pd.read_csv('edges/unbalanced_dataset/''positive_edges_test.csv')\n",
    "pos_org"
   ]
  },
  {
   "cell_type": "code",
   "execution_count": null,
   "id": "542e84b6",
   "metadata": {},
   "outputs": [],
   "source": [
    "pos_org_m1 = pd.merge(pos_org, protein_list, on=['Protein1_ID'])\n",
    "pos_org_m1 = pd.merge(pos_org_m1, protein_list, left_on=['Protein2_ID'], right_on=['Protein1_ID'])\n",
    "pos_org_m1"
   ]
  },
  {
   "cell_type": "code",
   "execution_count": null,
   "id": "ef8a8436",
   "metadata": {},
   "outputs": [],
   "source": [
    "pos_org_f = pos_org_m1[['Unnamed: 0_x', 'Unnamed: 0_y', 'label']]\n",
    "pos_org_f"
   ]
  },
  {
   "cell_type": "code",
   "execution_count": null,
   "id": "43ed44da",
   "metadata": {},
   "outputs": [],
   "source": [
    "pos_org_f.to_csv('edges/unbalanced_dataset/index/pos_test.csv', index=False, header=['Protein1_ID', 'Protein2_ID', 'label'])"
   ]
  },
  {
   "cell_type": "code",
   "execution_count": null,
   "id": "4f5eff66",
   "metadata": {},
   "outputs": [],
   "source": []
  }
 ],
 "metadata": {
  "kernelspec": {
   "display_name": "Python 3 (ipykernel)",
   "language": "python",
   "name": "python3"
  },
  "language_info": {
   "codemirror_mode": {
    "name": "ipython",
    "version": 3
   },
   "file_extension": ".py",
   "mimetype": "text/x-python",
   "name": "python",
   "nbconvert_exporter": "python",
   "pygments_lexer": "ipython3",
   "version": "3.9.12"
  }
 },
 "nbformat": 4,
 "nbformat_minor": 5
}
