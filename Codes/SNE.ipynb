{
 "cells": [
  {
   "cell_type": "code",
   "execution_count": 1,
   "id": "f200fcca",
   "metadata": {},
   "outputs": [],
   "source": [
    "import pandas as pd\n",
    "import numpy as np\n",
    "\n",
    "from sklearn.utils import shuffle"
   ]
  },
  {
   "cell_type": "code",
   "execution_count": 2,
   "id": "4b68d953",
   "metadata": {},
   "outputs": [],
   "source": [
    "import umap\n",
    "import umap.plot"
   ]
  },
  {
   "cell_type": "code",
   "execution_count": 3,
   "id": "12584d21",
   "metadata": {},
   "outputs": [],
   "source": [
    "## Clustering evaluation\n",
    "from sklearn import metrics\n",
    "from sklearn.metrics import pairwise_distances\n",
    "from sklearn.cluster import KMeans\n",
    "from sklearn.metrics import davies_bouldin_score"
   ]
  },
  {
   "cell_type": "code",
   "execution_count": 4,
   "id": "6d2564da",
   "metadata": {},
   "outputs": [],
   "source": [
    "edit_data_path = 'Embeddings/Graph/nSNE/'"
   ]
  },
  {
   "cell_type": "markdown",
   "id": "c3c6c7b5",
   "metadata": {},
   "source": [
    "# Load Dataframes"
   ]
  },
  {
   "cell_type": "markdown",
   "id": "3395df96",
   "metadata": {},
   "source": [
    "## Features"
   ]
  },
  {
   "cell_type": "code",
   "execution_count": 5,
   "id": "997fc145",
   "metadata": {},
   "outputs": [],
   "source": [
    "init_k = 128\n",
    "init_beta = 0.5"
   ]
  },
  {
   "cell_type": "code",
   "execution_count": 6,
   "id": "357b0fe3",
   "metadata": {},
   "outputs": [
    {
     "name": "stdout",
     "output_type": "stream",
     "text": [
      "[[-0.0753517   0.03160037 -0.01630632 ... -0.00523493 -0.00993999\n",
      "  -0.01828692]\n",
      " [-0.08640196  0.0760519  -0.01951726 ... -0.02953458 -0.00689961\n",
      "  -0.00590422]\n",
      " [-0.0610875   0.04219209 -0.02007643 ... -0.0078461  -0.00585597\n",
      "  -0.01498966]\n",
      " ...\n",
      " [-0.00037569  0.04096667  0.00947143 ... -0.00265461  0.03973189\n",
      "  -0.03530876]\n",
      " [ 0.04334189  0.0427948  -0.01473937 ... -0.00879302  0.02392511\n",
      "  -0.00182849]\n",
      " [ 0.06380406  0.0369466  -0.01122583 ...  0.02589243  0.01851878\n",
      "  -0.03561728]]\n",
      "(15685, 128)\n"
     ]
    }
   ],
   "source": [
    "s_emb = pd.read_csv(edit_data_path + 'Source_K' + str(init_k) + '_beta' + str(init_beta) + '.txt', header=None)\n",
    "\n",
    "s_features = s_emb.sort_index().values\n",
    "print(s_features)\n",
    "print(s_features.shape)"
   ]
  },
  {
   "cell_type": "code",
   "execution_count": 7,
   "id": "a0f37659",
   "metadata": {},
   "outputs": [
    {
     "name": "stdout",
     "output_type": "stream",
     "text": [
      "[[ 7.35538602e-02 -1.35619659e-02 -1.23645051e-03 ... -1.38742942e-02\n",
      "   6.85299858e-02 -3.07987388e-02]\n",
      " [ 7.97829628e-02 -3.96389998e-02 -2.02281121e-03 ... -5.56957535e-03\n",
      "   6.01063929e-02 -8.47082119e-03]\n",
      " [ 8.24837163e-02 -1.82146206e-02  5.45679126e-03 ... -1.37532623e-02\n",
      "   6.39942214e-02 -2.97223441e-02]\n",
      " ...\n",
      " [-9.79988836e-05 -5.27284928e-02  2.05241330e-03 ... -4.76261880e-03\n",
      "  -2.34230254e-02 -4.09662686e-02]\n",
      " [-3.22061256e-02 -4.18173745e-02 -2.65532900e-02 ...  1.32501302e-02\n",
      "  -3.36789875e-03 -3.15828770e-02]\n",
      " [-6.28939867e-02 -1.50194718e-02 -7.70067982e-03 ...  2.11271364e-02\n",
      "   6.67328341e-03 -1.81333199e-02]]\n",
      "(15685, 128)\n"
     ]
    }
   ],
   "source": [
    "t_emb = pd.read_csv(edit_data_path + 'Target_K' + str(init_k) + '_beta' + str(init_beta) + '.txt', header=None)\n",
    "\n",
    "t_features = t_emb.sort_index().values\n",
    "print(t_features)\n",
    "print(t_features.shape)"
   ]
  },
  {
   "cell_type": "markdown",
   "id": "cc8cfe23",
   "metadata": {},
   "source": [
    "## Edges"
   ]
  },
  {
   "cell_type": "code",
   "execution_count": 8,
   "id": "7b0d205d",
   "metadata": {},
   "outputs": [],
   "source": [
    "# all edges\n",
    "# tt_df = pd.read_csv('./hvppi_preds/hvppi_edgelist_idx.csv') \n",
    "# tt_df"
   ]
  },
  {
   "cell_type": "code",
   "execution_count": 9,
   "id": "e86329b9",
   "metadata": {},
   "outputs": [
    {
     "data": {
      "text/html": [
       "<div>\n",
       "<style scoped>\n",
       "    .dataframe tbody tr th:only-of-type {\n",
       "        vertical-align: middle;\n",
       "    }\n",
       "\n",
       "    .dataframe tbody tr th {\n",
       "        vertical-align: top;\n",
       "    }\n",
       "\n",
       "    .dataframe thead th {\n",
       "        text-align: right;\n",
       "    }\n",
       "</style>\n",
       "<table border=\"1\" class=\"dataframe\">\n",
       "  <thead>\n",
       "    <tr style=\"text-align: right;\">\n",
       "      <th></th>\n",
       "      <th>Protein1_ID</th>\n",
       "      <th>Protein2_ID</th>\n",
       "      <th>Class</th>\n",
       "      <th>Label</th>\n",
       "    </tr>\n",
       "  </thead>\n",
       "  <tbody>\n",
       "    <tr>\n",
       "      <th>0</th>\n",
       "      <td>9561</td>\n",
       "      <td>7</td>\n",
       "      <td>0.99</td>\n",
       "      <td>2</td>\n",
       "    </tr>\n",
       "    <tr>\n",
       "      <th>1</th>\n",
       "      <td>11092</td>\n",
       "      <td>7</td>\n",
       "      <td>0.99</td>\n",
       "      <td>2</td>\n",
       "    </tr>\n",
       "    <tr>\n",
       "      <th>2</th>\n",
       "      <td>10381</td>\n",
       "      <td>7</td>\n",
       "      <td>0.99</td>\n",
       "      <td>2</td>\n",
       "    </tr>\n",
       "    <tr>\n",
       "      <th>3</th>\n",
       "      <td>1068</td>\n",
       "      <td>7</td>\n",
       "      <td>0.99</td>\n",
       "      <td>2</td>\n",
       "    </tr>\n",
       "    <tr>\n",
       "      <th>4</th>\n",
       "      <td>13956</td>\n",
       "      <td>7</td>\n",
       "      <td>0.99</td>\n",
       "      <td>2</td>\n",
       "    </tr>\n",
       "    <tr>\n",
       "      <th>...</th>\n",
       "      <td>...</td>\n",
       "      <td>...</td>\n",
       "      <td>...</td>\n",
       "      <td>...</td>\n",
       "    </tr>\n",
       "    <tr>\n",
       "      <th>8773</th>\n",
       "      <td>14890</td>\n",
       "      <td>30</td>\n",
       "      <td>neg</td>\n",
       "      <td>0</td>\n",
       "    </tr>\n",
       "    <tr>\n",
       "      <th>8774</th>\n",
       "      <td>15118</td>\n",
       "      <td>30</td>\n",
       "      <td>neg</td>\n",
       "      <td>0</td>\n",
       "    </tr>\n",
       "    <tr>\n",
       "      <th>8775</th>\n",
       "      <td>3257</td>\n",
       "      <td>30</td>\n",
       "      <td>neg</td>\n",
       "      <td>0</td>\n",
       "    </tr>\n",
       "    <tr>\n",
       "      <th>8776</th>\n",
       "      <td>15625</td>\n",
       "      <td>30</td>\n",
       "      <td>neg</td>\n",
       "      <td>0</td>\n",
       "    </tr>\n",
       "    <tr>\n",
       "      <th>8777</th>\n",
       "      <td>4604</td>\n",
       "      <td>30</td>\n",
       "      <td>neg</td>\n",
       "      <td>0</td>\n",
       "    </tr>\n",
       "  </tbody>\n",
       "</table>\n",
       "<p>8778 rows × 4 columns</p>\n",
       "</div>"
      ],
      "text/plain": [
       "      Protein1_ID  Protein2_ID Class  Label\n",
       "0            9561            7  0.99      2\n",
       "1           11092            7  0.99      2\n",
       "2           10381            7  0.99      2\n",
       "3            1068            7  0.99      2\n",
       "4           13956            7  0.99      2\n",
       "...           ...          ...   ...    ...\n",
       "8773        14890           30   neg      0\n",
       "8774        15118           30   neg      0\n",
       "8775         3257           30   neg      0\n",
       "8776        15625           30   neg      0\n",
       "8777         4604           30   neg      0\n",
       "\n",
       "[8778 rows x 4 columns]"
      ]
     },
     "execution_count": 9,
     "metadata": {},
     "output_type": "execute_result"
    }
   ],
   "source": [
    "### train_test ### \n",
    "tt_df = pd.read_csv('./umap_tt_df.csv') \n",
    "\n",
    "## Label\n",
    "tt_df.loc[tt_df['Class'] == '0.99', 'Label'] = 2\n",
    "tt_df.loc[tt_df['Class'] == '0.95', 'Label'] = 1\n",
    "tt_df.loc[tt_df['Class'] == 'neg', 'Label'] = 0\n",
    "\n",
    "tt_df['Label'] = tt_df['Label'].astype(int)\n",
    "\n",
    "tt_df"
   ]
  },
  {
   "cell_type": "code",
   "execution_count": 10,
   "id": "50b73368",
   "metadata": {},
   "outputs": [],
   "source": [
    "# ## Experimentally Verified\n",
    "# tt_df = pd.read_csv('./edges/expt_verified_umap_eval.csv')\n",
    "# tt_df"
   ]
  },
  {
   "cell_type": "code",
   "execution_count": 11,
   "id": "b6a47f85",
   "metadata": {},
   "outputs": [
    {
     "data": {
      "text/plain": [
       "neg     4378\n",
       "0.95    2942\n",
       "0.99    1458\n",
       "Name: Class, dtype: int64"
      ]
     },
     "execution_count": 11,
     "metadata": {},
     "output_type": "execute_result"
    }
   ],
   "source": [
    "tt_df['Class'].value_counts()"
   ]
  },
  {
   "cell_type": "code",
   "execution_count": 12,
   "id": "6ddd2857",
   "metadata": {},
   "outputs": [],
   "source": [
    "## Get edge embeddings from node embeddings\n",
    "def generate_edge_emb_hadamard(input_df, source_feat, target_feat):\n",
    "    \n",
    "    edges_count = input_df.shape[0]\n",
    "\n",
    "    X = np.empty((edges_count, source_feat.shape[1])) ## All embeddings\n",
    "    k = 0\n",
    "\n",
    "    for i in range(len(input_df)):\n",
    "        u = source_feat[input_df['Protein1_ID'][i]] ## Source\n",
    "        v = target_feat[input_df['Protein2_ID'][i]] ## Target\n",
    "\n",
    "        hadamard = np.multiply(u, v)\n",
    "\n",
    "        X[k] = hadamard\n",
    "        k = k + 1\n",
    "\n",
    "    print(X)\n",
    "    print(X.shape)\n",
    "    \n",
    "    ## Target\n",
    "    target = input_df['Class'].values\n",
    "    y_true = input_df['Label'].values\n",
    "    \n",
    "#     target = input_df['Class_3'].values\n",
    "#     y_true = input_df['Label_3'].values\n",
    "    \n",
    "    return X, target, y_true"
   ]
  },
  {
   "cell_type": "code",
   "execution_count": 13,
   "id": "d2bd1f49",
   "metadata": {},
   "outputs": [
    {
     "name": "stdout",
     "output_type": "stream",
     "text": [
      "[[ 5.67915645e-03  3.95566661e-04 -4.54221944e-06 ...  3.80802044e-04\n",
      "   1.31988783e-03  9.29589033e-05]\n",
      " [ 3.84996699e-03 -6.41408063e-04 -4.74974926e-06 ...  1.86531463e-04\n",
      "   1.02980049e-03  3.58873673e-04]\n",
      " [ 4.89678984e-03  4.16910209e-03  1.22989078e-05 ...  6.25223759e-05\n",
      "   3.22686202e-04  7.46849656e-04]\n",
      " ...\n",
      " [ 2.03150194e-03  4.48617946e-04  1.84187122e-05 ... -5.67359611e-04\n",
      "   2.02427758e-03  1.32830227e-03]\n",
      " [ 1.05018849e-03 -1.21567013e-04  1.44158473e-05 ... -6.45688547e-04\n",
      "   1.62944768e-03  1.56569796e-03]\n",
      " [ 1.48958963e-03  7.34250247e-04 -3.19833546e-05 ... -8.92386287e-04\n",
      "   2.97010054e-03  1.15847153e-03]]\n",
      "(8778, 128)\n"
     ]
    }
   ],
   "source": [
    "edge_emb_arr, class_labels, labels_true = generate_edge_emb_hadamard(tt_df, s_features, t_features)"
   ]
  },
  {
   "cell_type": "markdown",
   "id": "a511c527",
   "metadata": {},
   "source": [
    "# Plot UMAP"
   ]
  },
  {
   "cell_type": "code",
   "execution_count": 14,
   "id": "d6c42d9d",
   "metadata": {},
   "outputs": [],
   "source": [
    "mapper = umap.UMAP().fit(edge_emb_arr)"
   ]
  },
  {
   "cell_type": "code",
   "execution_count": 15,
   "id": "c2b9b82b",
   "metadata": {},
   "outputs": [
    {
     "data": {
      "text/plain": [
       "<AxesSubplot:>"
      ]
     },
     "execution_count": 15,
     "metadata": {},
     "output_type": "execute_result"
    },
    {
     "data": {
      "image/png": "[encoded data removed]",
      "text/plain": [
       "<Figure size 800x800 with 1 Axes>"
      ]
     },
     "metadata": {},
     "output_type": "display_data"
    }
   ],
   "source": [
    "# umap.plot.points(mapper, labels=class_labels)\n",
    "umap.plot.points(mapper, labels=class_labels, theme='fire')"
   ]
  },
  {
   "cell_type": "markdown",
   "id": "fd338540",
   "metadata": {},
   "source": [
    "### Other evaluation metrics"
   ]
  },
  {
   "cell_type": "code",
   "execution_count": 16,
   "id": "75980caa",
   "metadata": {},
   "outputs": [],
   "source": [
    "# def get_metrics(get_edge_emb, true_labels, pred_labels):\n",
    "    \n",
    "#     h = metrics.homogeneity_score(true_labels, pred_labels)\n",
    "#     c = metrics.completeness_score(true_labels, pred_labels)\n",
    "#     v = metrics.v_measure_score(true_labels, pred_labels)\n",
    "    \n",
    "#     fm = metrics.fowlkes_mallows_score(true_labels, pred_labels)\n",
    "    \n",
    "#     s = metrics.silhouette_score(get_edge_emb, pred_labels, metric='euclidean')\n",
    "#     db = davies_bouldin_score(get_edge_emb, pred_labels)\n",
    "    \n",
    "#     ch = metrics.calinski_harabasz_score(get_edge_emb, pred_labels)\n",
    "    \n",
    "#     return([h, c, v, fm, s, db, ch])"
   ]
  },
  {
   "cell_type": "code",
   "execution_count": 17,
   "id": "0bdd6c15",
   "metadata": {},
   "outputs": [],
   "source": [
    "def get_metrics(get_edge_emb, true_labels, pred_labels):\n",
    "    \n",
    "    h = metrics.homogeneity_score(true_labels, pred_labels)\n",
    "    c = metrics.completeness_score(true_labels, pred_labels)\n",
    "    v = metrics.v_measure_score(true_labels, pred_labels)\n",
    "    \n",
    "    fm = metrics.fowlkes_mallows_score(true_labels, pred_labels)\n",
    "    \n",
    "    ## adjusted_rand_score\n",
    "    a_rand = metrics.adjusted_rand_score(true_labels, pred_labels) \n",
    "    a_mut_info = metrics.adjusted_mutual_info_score(true_labels, pred_labels)\n",
    "    \n",
    "    s = metrics.silhouette_score(get_edge_emb, pred_labels, metric='euclidean')\n",
    "#     db = davies_bouldin_score(get_edge_emb, pred_labels)\n",
    "#     ch = metrics.calinski_harabasz_score(get_edge_emb, pred_labels)\n",
    "    \n",
    "    return([h, c, v, fm, a_rand, a_mut_info, s])"
   ]
  },
  {
   "cell_type": "code",
   "execution_count": 18,
   "id": "545e9a33",
   "metadata": {},
   "outputs": [
    {
     "name": "stdout",
     "output_type": "stream",
     "text": [
      "[0.5419 0.613  0.5753 0.7516 0.5745 0.5752 0.3668]\n"
     ]
    }
   ],
   "source": [
    "## K-means clustering\n",
    "# kmeans_model = KMeans(n_clusters=4, random_state=1).fit(edge_emb_arr)\n",
    "kmeans_model = KMeans(n_clusters=3, random_state=1).fit(edge_emb_arr)\n",
    "labels = kmeans_model.labels_\n",
    "\n",
    "## Clustering evaluation\n",
    "metrics_arr = get_metrics(edge_emb_arr, labels_true, labels)\n",
    "\n",
    "## Round all elements in metrics_arr to 4 d.p.\n",
    "metrics_arr_r = np.round(metrics_arr, 4)\n",
    "print(metrics_arr_r)"
   ]
  },
  {
   "cell_type": "markdown",
   "id": "050a9a33",
   "metadata": {},
   "source": [
    "## UMAP VS K-Means"
   ]
  },
  {
   "cell_type": "code",
   "execution_count": 19,
   "id": "be323985",
   "metadata": {},
   "outputs": [
    {
     "data": {
      "text/plain": [
       "'\\n    https://umap-learn.readthedocs.io/en/latest/clustering.html\\n'"
      ]
     },
     "execution_count": 19,
     "metadata": {},
     "output_type": "execute_result"
    }
   ],
   "source": [
    "'''\n",
    "    https://umap-learn.readthedocs.io/en/latest/clustering.html\n",
    "'''"
   ]
  },
  {
   "cell_type": "code",
   "execution_count": 20,
   "id": "ddac5254",
   "metadata": {},
   "outputs": [],
   "source": [
    "import matplotlib.pyplot as plt"
   ]
  },
  {
   "cell_type": "code",
   "execution_count": 21,
   "id": "35f4b282",
   "metadata": {},
   "outputs": [
    {
     "name": "stdout",
     "output_type": "stream",
     "text": [
      "[[ 5.67915645e-03  3.95566661e-04 -4.54221944e-06 ...  3.80802044e-04\n",
      "   1.31988783e-03  9.29589033e-05]\n",
      " [ 3.84996699e-03 -6.41408063e-04 -4.74974926e-06 ...  1.86531463e-04\n",
      "   1.02980049e-03  3.58873673e-04]\n",
      " [ 4.89678984e-03  4.16910209e-03  1.22989078e-05 ...  6.25223759e-05\n",
      "   3.22686202e-04  7.46849656e-04]\n",
      " ...\n",
      " [ 2.03150194e-03  4.48617946e-04  1.84187122e-05 ... -5.67359611e-04\n",
      "   2.02427758e-03  1.32830227e-03]\n",
      " [ 1.05018849e-03 -1.21567013e-04  1.44158473e-05 ... -6.45688547e-04\n",
      "   1.62944768e-03  1.56569796e-03]\n",
      " [ 1.48958963e-03  7.34250247e-04 -3.19833546e-05 ... -8.92386287e-04\n",
      "   2.97010054e-03  1.15847153e-03]]\n",
      "(8778, 128)\n"
     ]
    }
   ],
   "source": [
    "edge_emb_arr, class_labels, labels_true = generate_edge_emb_hadamard(tt_df, s_features, t_features)"
   ]
  },
  {
   "cell_type": "code",
   "execution_count": 22,
   "id": "57f6bcda",
   "metadata": {},
   "outputs": [
    {
     "data": {
      "text/plain": [
       "array([[18.499596 , 10.399623 ],\n",
       "       [17.900063 , 10.1387205],\n",
       "       [19.71108  , 11.271685 ],\n",
       "       ...,\n",
       "       [ 3.9970994,  5.4254413],\n",
       "       [ 6.653745 , 10.983434 ],\n",
       "       [ 5.2622795,  5.147647 ]], dtype=float32)"
      ]
     },
     "execution_count": 22,
     "metadata": {},
     "output_type": "execute_result"
    }
   ],
   "source": [
    "standard_embedding = umap.UMAP(random_state=42).fit_transform(edge_emb_arr)\n",
    "standard_embedding"
   ]
  },
  {
   "cell_type": "code",
   "execution_count": 23,
   "id": "28201f67",
   "metadata": {},
   "outputs": [],
   "source": [
    "# neg     223194\n",
    "# 0.90     30228\n",
    "# 0.95     15782\n",
    "# 0.99      2872\n",
    "\n",
    "# [0 1 2 3] [neg 0.95 0.99 0.90] [223194  15782   2872  30228]"
   ]
  },
  {
   "cell_type": "code",
   "execution_count": 24,
   "id": "ae631e70",
   "metadata": {},
   "outputs": [
    {
     "data": {
      "image/png": "[encoded data removed]",
      "text/plain": [
       "<Figure size 432x288 with 1 Axes>"
      ]
     },
     "metadata": {
      "needs_background": "light"
     },
     "output_type": "display_data"
    }
   ],
   "source": [
    "## Actual labels\n",
    "## Filter rows of original data (standard_embedding)\n",
    "label_0 = standard_embedding[labels_true == 0]\n",
    "label_1 = standard_embedding[labels_true == 1]\n",
    "label_2 = standard_embedding[labels_true == 2]\n",
    "label_3 = standard_embedding[labels_true == 3]\n",
    "\n",
    "arr_0 = plt.scatter(label_0[:,0] , label_0[:,1], s=0.2, cmap='Spectral') ## plt.scatter(edge 1, edge 2) \n",
    "arr_1 = plt.scatter(label_1[:,0] , label_1[:,1], s=0.2, cmap='Spectral') \n",
    "arr_2 = plt.scatter(label_2[:,0] , label_2[:,1], s=0.2, cmap='Spectral')\n",
    "arr_3 = plt.scatter(label_3[:,0] , label_3[:,1], s=0.2, cmap='Spectral')\n",
    "\n",
    "plt.legend([arr_0, arr_1, arr_2, arr_3], ['neg', '0.95', '0.99','0.90'])\n",
    "plt.show()"
   ]
  },
  {
   "cell_type": "code",
   "execution_count": 25,
   "id": "df540821",
   "metadata": {},
   "outputs": [
    {
     "data": {
      "image/png": "[encoded data removed]",
      "text/plain": [
       "<Figure size 432x288 with 1 Axes>"
      ]
     },
     "metadata": {
      "needs_background": "light"
     },
     "output_type": "display_data"
    }
   ],
   "source": [
    "## K-means\n",
    "kmeans_labels = KMeans(n_clusters=4).fit_predict(edge_emb_arr)\n",
    "\n",
    "## Filter rows of original data (standard_embedding)\n",
    "label_0 = standard_embedding[kmeans_labels == 0]\n",
    "label_1 = standard_embedding[kmeans_labels == 1]\n",
    "label_2 = standard_embedding[kmeans_labels == 2]\n",
    "label_3 = standard_embedding[kmeans_labels == 3]\n",
    "\n",
    "arr_0 = plt.scatter(label_0[:,0] , label_0[:,1], s=0.5, cmap='Spectral') ## plt.scatter(edge 1, edge 2) \n",
    "arr_1 = plt.scatter(label_1[:,0] , label_1[:,1], s=0.5, cmap='Spectral') \n",
    "arr_2 = plt.scatter(label_2[:,0] , label_2[:,1], s=0.5, cmap='Spectral')\n",
    "arr_3 = plt.scatter(label_3[:,0] , label_3[:,1], s=0.5, cmap='Spectral')\n",
    "\n",
    "plt.legend([arr_0, arr_1, arr_2, arr_3], ['0', '1', '2','3'])\n",
    "plt.show()"
   ]
  },
  {
   "cell_type": "code",
   "execution_count": 26,
   "id": "75d655ef",
   "metadata": {},
   "outputs": [
    {
     "name": "stdout",
     "output_type": "stream",
     "text": [
      "[2 2 2 ... 0 0 0]\n",
      "[0 1 2] [4378 2942 1458]\n"
     ]
    }
   ],
   "source": [
    "print(labels_true)\n",
    "\n",
    "unique, counts = np.unique(labels_true, return_counts=True)\n",
    "print(unique, counts)"
   ]
  },
  {
   "cell_type": "code",
   "execution_count": 27,
   "id": "b29b3f3b",
   "metadata": {},
   "outputs": [
    {
     "name": "stdout",
     "output_type": "stream",
     "text": [
      "[1 1 1 ... 0 0 0]\n",
      "[0 1 2 3] [3747 3540  608  883]\n"
     ]
    }
   ],
   "source": [
    "print(kmeans_labels)\n",
    "\n",
    "unique, counts = np.unique(kmeans_labels, return_counts=True)\n",
    "print(unique, counts)"
   ]
  },
  {
   "cell_type": "code",
   "execution_count": 28,
   "id": "a230e157",
   "metadata": {},
   "outputs": [
    {
     "data": {
      "text/plain": [
       "[0.5579363933765888,\n",
       " 0.4926461970855156,\n",
       " 0.5232625115017064,\n",
       " 0.7205104361624362,\n",
       " 0.5529681085057725,\n",
       " 0.5231112609412436,\n",
       " 0.3085285079914557]"
      ]
     },
     "execution_count": 28,
     "metadata": {},
     "output_type": "execute_result"
    }
   ],
   "source": [
    "## metrics\n",
    "metrics_arr = get_metrics(edge_emb_arr, labels_true, kmeans_labels)\n",
    "metrics_arr"
   ]
  },
  {
   "cell_type": "code",
   "execution_count": 29,
   "id": "af32d1d5",
   "metadata": {},
   "outputs": [
    {
     "data": {
      "text/plain": [
       "array([0.5579, 0.4926, 0.5233, 0.7205, 0.553 , 0.5231, 0.3085])"
      ]
     },
     "execution_count": 29,
     "metadata": {},
     "output_type": "execute_result"
    }
   ],
   "source": [
    "np.round(metrics_arr, 4)"
   ]
  },
  {
   "cell_type": "markdown",
   "id": "73c5e69f",
   "metadata": {},
   "source": [
    "## Create edgelist"
   ]
  },
  {
   "cell_type": "code",
   "execution_count": 30,
   "id": "c750689c",
   "metadata": {},
   "outputs": [
    {
     "ename": "KeyError",
     "evalue": "\"['Label_s'] not in index\"",
     "output_type": "error",
     "traceback": [
      "\u001b[1;31m---------------------------------------------------------------------------\u001b[0m",
      "\u001b[1;31mKeyError\u001b[0m                                  Traceback (most recent call last)",
      "Input \u001b[1;32mIn [30]\u001b[0m, in \u001b[0;36m<cell line: 1>\u001b[1;34m()\u001b[0m\n\u001b[1;32m----> 1\u001b[0m tt_df_1 \u001b[38;5;241m=\u001b[39m \u001b[43mtt_df\u001b[49m\u001b[43m[\u001b[49m\u001b[43m[\u001b[49m\u001b[38;5;124;43m'\u001b[39;49m\u001b[38;5;124;43mProtein1_ID\u001b[39;49m\u001b[38;5;124;43m'\u001b[39;49m\u001b[43m,\u001b[49m\u001b[43m \u001b[49m\u001b[38;5;124;43m'\u001b[39;49m\u001b[38;5;124;43mProtein2_ID\u001b[39;49m\u001b[38;5;124;43m'\u001b[39;49m\u001b[43m,\u001b[49m\u001b[43m \u001b[49m\u001b[38;5;124;43m'\u001b[39;49m\u001b[38;5;124;43mLabel_s\u001b[39;49m\u001b[38;5;124;43m'\u001b[39;49m\u001b[43m]\u001b[49m\u001b[43m]\u001b[49m\n\u001b[0;32m      2\u001b[0m tt_df_2 \u001b[38;5;241m=\u001b[39m tt_df[[\u001b[38;5;124m'\u001b[39m\u001b[38;5;124mProtein2_ID\u001b[39m\u001b[38;5;124m'\u001b[39m, \u001b[38;5;124m'\u001b[39m\u001b[38;5;124mProtein1_ID\u001b[39m\u001b[38;5;124m'\u001b[39m, \u001b[38;5;124m'\u001b[39m\u001b[38;5;124mLabel_s\u001b[39m\u001b[38;5;124m'\u001b[39m]]\n\u001b[0;32m      3\u001b[0m edges \u001b[38;5;241m=\u001b[39m pd\u001b[38;5;241m.\u001b[39mconcat([tt_df_1, tt_df_2], ignore_index\u001b[38;5;241m=\u001b[39m\u001b[38;5;28;01mTrue\u001b[39;00m)\n",
      "File \u001b[1;32m~\\Anaconda3\\lib\\site-packages\\pandas\\core\\frame.py:3511\u001b[0m, in \u001b[0;36mDataFrame.__getitem__\u001b[1;34m(self, key)\u001b[0m\n\u001b[0;32m   3509\u001b[0m     \u001b[38;5;28;01mif\u001b[39;00m is_iterator(key):\n\u001b[0;32m   3510\u001b[0m         key \u001b[38;5;241m=\u001b[39m \u001b[38;5;28mlist\u001b[39m(key)\n\u001b[1;32m-> 3511\u001b[0m     indexer \u001b[38;5;241m=\u001b[39m \u001b[38;5;28;43mself\u001b[39;49m\u001b[38;5;241;43m.\u001b[39;49m\u001b[43mcolumns\u001b[49m\u001b[38;5;241;43m.\u001b[39;49m\u001b[43m_get_indexer_strict\u001b[49m\u001b[43m(\u001b[49m\u001b[43mkey\u001b[49m\u001b[43m,\u001b[49m\u001b[43m \u001b[49m\u001b[38;5;124;43m\"\u001b[39;49m\u001b[38;5;124;43mcolumns\u001b[39;49m\u001b[38;5;124;43m\"\u001b[39;49m\u001b[43m)\u001b[49m[\u001b[38;5;241m1\u001b[39m]\n\u001b[0;32m   3513\u001b[0m \u001b[38;5;66;03m# take() does not accept boolean indexers\u001b[39;00m\n\u001b[0;32m   3514\u001b[0m \u001b[38;5;28;01mif\u001b[39;00m \u001b[38;5;28mgetattr\u001b[39m(indexer, \u001b[38;5;124m\"\u001b[39m\u001b[38;5;124mdtype\u001b[39m\u001b[38;5;124m\"\u001b[39m, \u001b[38;5;28;01mNone\u001b[39;00m) \u001b[38;5;241m==\u001b[39m \u001b[38;5;28mbool\u001b[39m:\n",
      "File \u001b[1;32m~\\Anaconda3\\lib\\site-packages\\pandas\\core\\indexes\\base.py:5782\u001b[0m, in \u001b[0;36mIndex._get_indexer_strict\u001b[1;34m(self, key, axis_name)\u001b[0m\n\u001b[0;32m   5779\u001b[0m \u001b[38;5;28;01melse\u001b[39;00m:\n\u001b[0;32m   5780\u001b[0m     keyarr, indexer, new_indexer \u001b[38;5;241m=\u001b[39m \u001b[38;5;28mself\u001b[39m\u001b[38;5;241m.\u001b[39m_reindex_non_unique(keyarr)\n\u001b[1;32m-> 5782\u001b[0m \u001b[38;5;28;43mself\u001b[39;49m\u001b[38;5;241;43m.\u001b[39;49m\u001b[43m_raise_if_missing\u001b[49m\u001b[43m(\u001b[49m\u001b[43mkeyarr\u001b[49m\u001b[43m,\u001b[49m\u001b[43m \u001b[49m\u001b[43mindexer\u001b[49m\u001b[43m,\u001b[49m\u001b[43m \u001b[49m\u001b[43maxis_name\u001b[49m\u001b[43m)\u001b[49m\n\u001b[0;32m   5784\u001b[0m keyarr \u001b[38;5;241m=\u001b[39m \u001b[38;5;28mself\u001b[39m\u001b[38;5;241m.\u001b[39mtake(indexer)\n\u001b[0;32m   5785\u001b[0m \u001b[38;5;28;01mif\u001b[39;00m \u001b[38;5;28misinstance\u001b[39m(key, Index):\n\u001b[0;32m   5786\u001b[0m     \u001b[38;5;66;03m# GH 42790 - Preserve name from an Index\u001b[39;00m\n",
      "File \u001b[1;32m~\\Anaconda3\\lib\\site-packages\\pandas\\core\\indexes\\base.py:5845\u001b[0m, in \u001b[0;36mIndex._raise_if_missing\u001b[1;34m(self, key, indexer, axis_name)\u001b[0m\n\u001b[0;32m   5842\u001b[0m     \u001b[38;5;28;01mraise\u001b[39;00m \u001b[38;5;167;01mKeyError\u001b[39;00m(\u001b[38;5;124mf\u001b[39m\u001b[38;5;124m\"\u001b[39m\u001b[38;5;124mNone of [\u001b[39m\u001b[38;5;132;01m{\u001b[39;00mkey\u001b[38;5;132;01m}\u001b[39;00m\u001b[38;5;124m] are in the [\u001b[39m\u001b[38;5;132;01m{\u001b[39;00maxis_name\u001b[38;5;132;01m}\u001b[39;00m\u001b[38;5;124m]\u001b[39m\u001b[38;5;124m\"\u001b[39m)\n\u001b[0;32m   5844\u001b[0m not_found \u001b[38;5;241m=\u001b[39m \u001b[38;5;28mlist\u001b[39m(ensure_index(key)[missing_mask\u001b[38;5;241m.\u001b[39mnonzero()[\u001b[38;5;241m0\u001b[39m]]\u001b[38;5;241m.\u001b[39munique())\n\u001b[1;32m-> 5845\u001b[0m \u001b[38;5;28;01mraise\u001b[39;00m \u001b[38;5;167;01mKeyError\u001b[39;00m(\u001b[38;5;124mf\u001b[39m\u001b[38;5;124m\"\u001b[39m\u001b[38;5;132;01m{\u001b[39;00mnot_found\u001b[38;5;132;01m}\u001b[39;00m\u001b[38;5;124m not in index\u001b[39m\u001b[38;5;124m\"\u001b[39m)\n",
      "\u001b[1;31mKeyError\u001b[0m: \"['Label_s'] not in index\""
     ]
    }
   ],
   "source": [
    "tt_df_1 = tt_df[['Protein1_ID', 'Protein2_ID', 'Label_s']]\n",
    "tt_df_2 = tt_df[['Protein2_ID', 'Protein1_ID', 'Label_s']]\n",
    "edges = pd.concat([tt_df_1, tt_df_2], ignore_index=True)\n",
    "edges"
   ]
  },
  {
   "cell_type": "code",
   "execution_count": null,
   "id": "e46ab8a0",
   "metadata": {},
   "outputs": [],
   "source": [
    "# edges.to_csv('./edges/SNE/iav.edges.txt', index=False, header=None, sep=' ')"
   ]
  },
  {
   "cell_type": "code",
   "execution_count": null,
   "id": "dcf93ca6",
   "metadata": {},
   "outputs": [],
   "source": [
    "tt_df['Label_s'] = tt_df['Label_3']\n",
    "tt_df.loc[tt_df['Label_3'] == 0, 'Label_s'] = -1"
   ]
  },
  {
   "cell_type": "code",
   "execution_count": null,
   "id": "1424d743",
   "metadata": {},
   "outputs": [],
   "source": [
    "tt_df['Label_s'].value_counts()"
   ]
  },
  {
   "cell_type": "code",
   "execution_count": null,
   "id": "027bd96f",
   "metadata": {},
   "outputs": [],
   "source": [
    "df = shuffle(tt_df)\n",
    "df"
   ]
  },
  {
   "cell_type": "code",
   "execution_count": null,
   "id": "8f9da2a0",
   "metadata": {},
   "outputs": [],
   "source": [
    "c0_org = df[df['Label'] == 0]\n",
    "c0_org"
   ]
  },
  {
   "cell_type": "code",
   "execution_count": null,
   "id": "7f405632",
   "metadata": {},
   "outputs": [],
   "source": [
    "df['Class'].value_counts()"
   ]
  },
  {
   "cell_type": "code",
   "execution_count": null,
   "id": "12430916",
   "metadata": {},
   "outputs": [],
   "source": [
    "df['Label'].value_counts()"
   ]
  },
  {
   "cell_type": "code",
   "execution_count": null,
   "id": "36891978",
   "metadata": {},
   "outputs": [],
   "source": [
    "c0 = df[df['Label'] == 0].reset_index(drop=True) ## neg\n",
    "c1 = df[df['Label'] == 1].reset_index(drop=True) ## 0.95\n",
    "c2 = df[df['Label'] == 2].reset_index(drop=True) ## 0.99\n",
    "c3 = df[df['Label'] == 3].reset_index(drop=True) ## 0.90"
   ]
  },
  {
   "cell_type": "code",
   "execution_count": null,
   "id": "f488bce1",
   "metadata": {},
   "outputs": [],
   "source": [
    "## Take 25% from each class to form testset\n",
    "c0_test= c0.sample(frac = 0.25, replace = False) ## 25% of positive dataset\n",
    "c0_train = c0[~c0.index.isin(c0_test.index)]\n",
    "print(len(c0_test), len(c0_train))"
   ]
  },
  {
   "cell_type": "code",
   "execution_count": null,
   "id": "040e6da9",
   "metadata": {},
   "outputs": [],
   "source": [
    "c1_test= c1.sample(frac = 0.25, replace = False) ## 25% of positive dataset\n",
    "c1_train = c1[~c1.index.isin(c1_test.index)]\n",
    "print(len(c1_test), len(c1_train))"
   ]
  },
  {
   "cell_type": "code",
   "execution_count": null,
   "id": "55a470cb",
   "metadata": {},
   "outputs": [],
   "source": [
    "c2_test= c2.sample(frac = 0.25, replace = False) ## 25% of positive dataset\n",
    "c2_train = c2[~c2.index.isin(c2_test.index)]\n",
    "print(len(c2_test), len(c2_train))"
   ]
  },
  {
   "cell_type": "code",
   "execution_count": null,
   "id": "c58bebe1",
   "metadata": {},
   "outputs": [],
   "source": [
    "c3_test= c3.sample(frac = 0.25, replace = False) ## 25% of positive dataset\n",
    "c3_train = c3[~c3.index.isin(c3_test.index)]\n",
    "print(len(c3_test), len(c3_train))"
   ]
  },
  {
   "cell_type": "code",
   "execution_count": null,
   "id": "02897cdc",
   "metadata": {},
   "outputs": [],
   "source": [
    "## Concatenate\n",
    "testset = pd.concat([c2_test, c1_test, c3_test, c0_test], ignore_index=True)\n",
    "testset"
   ]
  },
  {
   "cell_type": "code",
   "execution_count": null,
   "id": "99be2305",
   "metadata": {},
   "outputs": [],
   "source": [
    "testset['Label_3'].value_counts()"
   ]
  },
  {
   "cell_type": "code",
   "execution_count": null,
   "id": "d0bd68f0",
   "metadata": {},
   "outputs": [],
   "source": [
    "testset['Label_s'] = testset['Label_3']\n",
    "testset.loc[testset['Label_3'] == 0, 'Label_s'] = -1\n",
    "testset"
   ]
  },
  {
   "cell_type": "code",
   "execution_count": null,
   "id": "b20517c5",
   "metadata": {},
   "outputs": [],
   "source": [
    "trainset = pd.concat([c2_train, c1_train, c3_train, c0_train], ignore_index=True)\n",
    "trainset"
   ]
  },
  {
   "cell_type": "code",
   "execution_count": null,
   "id": "c6aa616a",
   "metadata": {},
   "outputs": [],
   "source": [
    "trainset['Label_s'] = trainset['Label_3']\n",
    "trainset.loc[trainset['Label_3'] == 0, 'Label_s'] = -1\n",
    "trainset"
   ]
  },
  {
   "cell_type": "code",
   "execution_count": null,
   "id": "d36ae7ad",
   "metadata": {},
   "outputs": [],
   "source": [
    "testset_f = testset[['Protein1_ID', 'Protein2_ID', 'Label_s']]\n",
    "trainset_f = trainset[['Protein1_ID', 'Protein2_ID', 'Label_s']]"
   ]
  },
  {
   "cell_type": "code",
   "execution_count": null,
   "id": "4415838e",
   "metadata": {},
   "outputs": [],
   "source": [
    "## Undirected edgelist\n",
    "testset_f2 = testset[['Protein2_ID', 'Protein1_ID', 'Label_s']]\n",
    "trainset_f2 = trainset[['Protein2_ID', 'Protein1_ID', 'Label_s']]"
   ]
  },
  {
   "cell_type": "code",
   "execution_count": null,
   "id": "b9cf518d",
   "metadata": {},
   "outputs": [],
   "source": [
    "testset_f2.columns = ['Protein1_ID', 'Protein2_ID', 'Label_s']\n",
    "trainset_f2.columns = ['Protein1_ID', 'Protein2_ID', 'Label_s']"
   ]
  },
  {
   "cell_type": "code",
   "execution_count": null,
   "id": "acd09522",
   "metadata": {},
   "outputs": [],
   "source": [
    "testset_final = pd.concat([testset_f, testset_f2], ignore_index=True)"
   ]
  },
  {
   "cell_type": "code",
   "execution_count": null,
   "id": "57b2431b",
   "metadata": {},
   "outputs": [],
   "source": [
    "trainset_final = pd.concat([trainset_f, trainset_f2], ignore_index=True)\n",
    "trainset_final"
   ]
  },
  {
   "cell_type": "code",
   "execution_count": null,
   "id": "55cfacfa",
   "metadata": {},
   "outputs": [],
   "source": [
    "# testset_final.to_csv('./edges/SNE/iav.test_0.txt', index=False, header=None, sep=' ')\n",
    "# trainset_final.to_csv('./edges/SNE/iav.train_0.txt', index=False, header=None, sep=' ')"
   ]
  },
  {
   "cell_type": "code",
   "execution_count": null,
   "id": "41ad7458",
   "metadata": {},
   "outputs": [],
   "source": [
    "# ## Train : Val = 9 : 1\n",
    "# pos_val = pos.sample(frac = 0.1, replace = False) ## 10% of positive dataset\n",
    "# pos_train = pos[~pos.index.isin(pos_val.index)]\n",
    "\n",
    "# neg_val = neg.sample(frac = 0.1, replace = False) ## 10% of negative dataset\n",
    "# neg_train = neg[~neg.index.isin(neg_val.index)]"
   ]
  }
 ],
 "metadata": {
  "kernelspec": {
   "display_name": "Python 3 (ipykernel)",
   "language": "python",
   "name": "python3"
  },
  "language_info": {
   "codemirror_mode": {
    "name": "ipython",
    "version": 3
   },
   "file_extension": ".py",
   "mimetype": "text/x-python",
   "name": "python",
   "nbconvert_exporter": "python",
   "pygments_lexer": "ipython3",
   "version": "3.9.12"
  }
 },
 "nbformat": 4,
 "nbformat_minor": 5
}
